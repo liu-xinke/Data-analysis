{
 "cells": [
  {
   "cell_type": "markdown",
   "metadata": {},
   "source": [
    "# 描述性分析"
   ]
  },
  {
   "cell_type": "code",
   "execution_count": 1,
   "metadata": {},
   "outputs": [],
   "source": [
    "import pandas as pd"
   ]
  },
  {
   "cell_type": "code",
   "execution_count": 2,
   "metadata": {},
   "outputs": [
    {
     "data": {
      "text/html": [
       "<div>\n",
       "<style scoped>\n",
       "    .dataframe tbody tr th:only-of-type {\n",
       "        vertical-align: middle;\n",
       "    }\n",
       "\n",
       "    .dataframe tbody tr th {\n",
       "        vertical-align: top;\n",
       "    }\n",
       "\n",
       "    .dataframe thead th {\n",
       "        text-align: right;\n",
       "    }\n",
       "</style>\n",
       "<table border=\"1\" class=\"dataframe\">\n",
       "  <thead>\n",
       "    <tr style=\"text-align: right;\">\n",
       "      <th></th>\n",
       "      <th>satisfaction_level</th>\n",
       "      <th>last_evaluation</th>\n",
       "      <th>number_project</th>\n",
       "      <th>average_monthly_hours</th>\n",
       "      <th>time_spend_company</th>\n",
       "      <th>Work_accident</th>\n",
       "      <th>left</th>\n",
       "      <th>promotion_last_5years</th>\n",
       "      <th>department</th>\n",
       "      <th>salary</th>\n",
       "    </tr>\n",
       "  </thead>\n",
       "  <tbody>\n",
       "    <tr>\n",
       "      <th>0</th>\n",
       "      <td>0.38</td>\n",
       "      <td>0.53</td>\n",
       "      <td>2</td>\n",
       "      <td>157</td>\n",
       "      <td>3</td>\n",
       "      <td>0</td>\n",
       "      <td>1</td>\n",
       "      <td>0</td>\n",
       "      <td>sales</td>\n",
       "      <td>low</td>\n",
       "    </tr>\n",
       "    <tr>\n",
       "      <th>1</th>\n",
       "      <td>0.80</td>\n",
       "      <td>0.86</td>\n",
       "      <td>5</td>\n",
       "      <td>262</td>\n",
       "      <td>6</td>\n",
       "      <td>0</td>\n",
       "      <td>1</td>\n",
       "      <td>0</td>\n",
       "      <td>sales</td>\n",
       "      <td>medium</td>\n",
       "    </tr>\n",
       "    <tr>\n",
       "      <th>2</th>\n",
       "      <td>0.11</td>\n",
       "      <td>0.88</td>\n",
       "      <td>7</td>\n",
       "      <td>272</td>\n",
       "      <td>4</td>\n",
       "      <td>0</td>\n",
       "      <td>1</td>\n",
       "      <td>0</td>\n",
       "      <td>sales</td>\n",
       "      <td>medium</td>\n",
       "    </tr>\n",
       "    <tr>\n",
       "      <th>3</th>\n",
       "      <td>0.72</td>\n",
       "      <td>0.87</td>\n",
       "      <td>5</td>\n",
       "      <td>223</td>\n",
       "      <td>5</td>\n",
       "      <td>0</td>\n",
       "      <td>1</td>\n",
       "      <td>0</td>\n",
       "      <td>sales</td>\n",
       "      <td>low</td>\n",
       "    </tr>\n",
       "    <tr>\n",
       "      <th>4</th>\n",
       "      <td>0.37</td>\n",
       "      <td>0.52</td>\n",
       "      <td>2</td>\n",
       "      <td>159</td>\n",
       "      <td>3</td>\n",
       "      <td>0</td>\n",
       "      <td>1</td>\n",
       "      <td>0</td>\n",
       "      <td>sales</td>\n",
       "      <td>low</td>\n",
       "    </tr>\n",
       "  </tbody>\n",
       "</table>\n",
       "</div>"
      ],
      "text/plain": [
       "   satisfaction_level  last_evaluation  number_project  average_monthly_hours  \\\n",
       "0                0.38             0.53               2                    157   \n",
       "1                0.80             0.86               5                    262   \n",
       "2                0.11             0.88               7                    272   \n",
       "3                0.72             0.87               5                    223   \n",
       "4                0.37             0.52               2                    159   \n",
       "\n",
       "   time_spend_company  Work_accident  left  promotion_last_5years department  \\\n",
       "0                   3              0     1                      0      sales   \n",
       "1                   6              0     1                      0      sales   \n",
       "2                   4              0     1                      0      sales   \n",
       "3                   5              0     1                      0      sales   \n",
       "4                   3              0     1                      0      sales   \n",
       "\n",
       "   salary  \n",
       "0     low  \n",
       "1  medium  \n",
       "2  medium  \n",
       "3     low  \n",
       "4     low  "
      ]
     },
     "execution_count": 2,
     "metadata": {},
     "output_type": "execute_result"
    }
   ],
   "source": [
    "data=pd.read_csv(\"./HR.csv\")\n",
    "data.head()"
   ]
  },
  {
   "cell_type": "code",
   "execution_count": 3,
   "metadata": {},
   "outputs": [
    {
     "name": "stdout",
     "output_type": "stream",
     "text": [
      "<class 'pandas.core.frame.DataFrame'>\n",
      "RangeIndex: 15002 entries, 0 to 15001\n",
      "Data columns (total 10 columns):\n",
      "satisfaction_level       15000 non-null float64\n",
      "last_evaluation          15002 non-null float64\n",
      "number_project           15002 non-null int64\n",
      "average_monthly_hours    15002 non-null int64\n",
      "time_spend_company       15002 non-null int64\n",
      "Work_accident            15002 non-null int64\n",
      "left                     15002 non-null int64\n",
      "promotion_last_5years    15002 non-null int64\n",
      "department               15002 non-null object\n",
      "salary                   15002 non-null object\n",
      "dtypes: float64(2), int64(6), object(2)\n",
      "memory usage: 1.1+ MB\n"
     ]
    }
   ],
   "source": [
    "data.info()"
   ]
  },
  {
   "cell_type": "code",
   "execution_count": 4,
   "metadata": {},
   "outputs": [
    {
     "data": {
      "text/plain": [
       "satisfaction_level         0.612839\n",
       "last_evaluation           67.373732\n",
       "number_project             3.802693\n",
       "average_monthly_hours    201.041728\n",
       "time_spend_company         3.498067\n",
       "Work_accident              0.144581\n",
       "left                       0.238235\n",
       "promotion_last_5years      0.021264\n",
       "dtype: float64"
      ]
     },
     "execution_count": 4,
     "metadata": {},
     "output_type": "execute_result"
    }
   ],
   "source": [
    "data.mean()"
   ]
  },
  {
   "cell_type": "code",
   "execution_count": 5,
   "metadata": {},
   "outputs": [
    {
     "data": {
      "text/plain": [
       "satisfaction_level          0.248623\n",
       "last_evaluation          8164.407524\n",
       "number_project              1.232733\n",
       "average_monthly_hours      49.941815\n",
       "time_spend_company          1.460053\n",
       "Work_accident               0.351689\n",
       "left                        0.426018\n",
       "promotion_last_5years       0.144267\n",
       "dtype: float64"
      ]
     },
     "execution_count": 5,
     "metadata": {},
     "output_type": "execute_result"
    }
   ],
   "source": [
    "data.std()"
   ]
  },
  {
   "cell_type": "code",
   "execution_count": 6,
   "metadata": {},
   "outputs": [
    {
     "name": "stdout",
     "output_type": "stream",
     "text": [
      "0.0 1.0 0.0 0.0\n",
      "0.3989422804014327\n",
      "1.2815515655446004\n",
      "0.9772498680518208\n",
      "0.9544997361036416\n",
      "[ 0.78881281 -2.49959282 -0.82097733 -0.38883871  0.10501987 -0.41828266\n",
      "  0.86039144 -0.8076675  -0.36208618  1.33038472 -0.52524865  0.43234496\n",
      "  1.19392766  0.3299259   1.08399631 -2.50173347  1.49145154 -0.48177165\n",
      " -0.18889125  0.02516892 -1.2236606  -0.53184211 -0.66936219  0.80760333\n",
      "  2.76024199 -0.05620464 -0.55198048 -1.11854155 -0.88453884 -1.13867817\n",
      " -0.38755716 -0.52761523 -0.57300666 -1.39876517  1.3777389   0.7440278\n",
      " -1.49319105  0.67239207  1.38697186  0.2429472  -0.95966912  1.31288551\n",
      "  0.32253461  2.35531655  0.89206804 -0.19084867  0.48271478  0.68797029\n",
      "  0.63600343  2.19970888  0.40457731  1.49186009  1.9675443   0.17118878\n",
      "  0.54376905  0.94786838 -0.64663958  0.8403072  -0.05801685 -0.51373131\n",
      " -0.76754401 -0.44916072  1.28180949 -1.50415939  0.28482016  0.33435094\n",
      "  1.50347278 -0.52779604 -2.11968937  0.84950937 -2.14800271 -0.76317221\n",
      " -0.31207476 -0.69863905  0.53040425 -0.13161249  0.88303826  0.63255344\n",
      " -0.34226487  0.24351565  0.76847261  1.34837243  0.18659672  1.37085137\n",
      " -0.06851879  1.9875946  -1.28636791 -0.48710659  1.06945737  1.34662508\n",
      " -2.4405462  -0.7686979  -0.26262238 -0.08263209 -1.01948747 -0.4239404\n",
      " -0.90353434  0.97153873 -0.21932976  1.47464793]\n",
      "<scipy.stats._continuous_distns.chi2_gen object at 0x0000000008CD9860>\n",
      "<scipy.stats._continuous_distns.t_gen object at 0x0000000008D59438>\n",
      "<scipy.stats._continuous_distns.f_gen object at 0x0000000008CE8160>\n",
      "       satisfaction_level  last_evaluation  number_project  \\\n",
      "7597                 1.00             0.67               3   \n",
      "6126                 0.47             0.56               4   \n",
      "5904                 0.74             0.48               5   \n",
      "8811                 0.88             0.75               5   \n",
      "5532                 0.58             0.88               3   \n",
      "4138                 0.58             0.43               6   \n",
      "4785                 0.83             0.84               3   \n",
      "4371                 0.18             0.84               4   \n",
      "8344                 0.55             0.57               4   \n",
      "10725                0.52             0.55               3   \n",
      "7190                 0.56             0.96               3   \n",
      "13674                0.80             0.70               4   \n",
      "7556                 0.98             0.63               3   \n",
      "8767                 0.89             0.90               3   \n",
      "9796                 0.15             0.42               3   \n",
      "13560                0.95             0.90               4   \n",
      "13880                0.69             0.43               5   \n",
      "3885                 0.92             0.69               4   \n",
      "3247                 0.67             0.61               3   \n",
      "4126                 0.14             0.76               5   \n",
      "5191                 0.52             0.96               4   \n",
      "14412                0.39             0.50               2   \n",
      "9289                 0.83             0.57               3   \n",
      "14100                0.38             0.49               4   \n",
      "11199                0.84             0.85               4   \n",
      "12517                0.09             0.86               7   \n",
      "13230                0.78             0.96               2   \n",
      "12464                0.82             0.98               5   \n",
      "13525                0.66             0.59               4   \n",
      "10143                0.93             0.90               3   \n",
      "...                   ...              ...             ...   \n",
      "7374                 0.51             0.86               4   \n",
      "12825                0.89             0.92               3   \n",
      "7285                 0.62             0.53               4   \n",
      "11761                0.88             0.83               4   \n",
      "11741                0.72             0.59               5   \n",
      "13542                0.86             0.61               4   \n",
      "7336                 0.52             0.75               4   \n",
      "8556                 0.95             0.95               4   \n",
      "434                  0.10             0.84               6   \n",
      "14139                0.50             0.64               2   \n",
      "5380                 0.70             0.51               3   \n",
      "6014                 0.91             0.62               5   \n",
      "3203                 0.48             0.95               3   \n",
      "14105                0.82             0.76               4   \n",
      "7667                 0.91             0.55               3   \n",
      "3353                 0.59             0.92               4   \n",
      "6584                 0.19             0.91               3   \n",
      "9428                 0.85             0.83               4   \n",
      "6198                 0.58             0.54               4   \n",
      "14419                0.44             0.50               2   \n",
      "7711                 0.96             0.57               3   \n",
      "5505                 0.65             0.94               4   \n",
      "8330                 0.51             0.54               4   \n",
      "7507                 0.29             0.38               6   \n",
      "10073                0.23             0.87               5   \n",
      "10407                0.73             0.98               4   \n",
      "5989                 0.43             0.46               4   \n",
      "13278                0.51             0.62               4   \n",
      "13752                0.51             0.89               4   \n",
      "14219                0.89             1.00               5   \n",
      "\n",
      "       average_monthly_hours  time_spend_company  Work_accident  left  \\\n",
      "7597                     181                   2              0     0   \n",
      "6126                     165                   3              0     0   \n",
      "5904                     165                   2              0     0   \n",
      "8811                     152                   3              0     0   \n",
      "5532                     157                   4              0     0   \n",
      "4138                     132                   3              0     0   \n",
      "4785                     249                   2              0     0   \n",
      "4371                     231                   5              0     0   \n",
      "8344                     220                   3              0     0   \n",
      "10725                    225                   2              0     0   \n",
      "7190                     244                   3              0     0   \n",
      "13674                    246                   3              0     0   \n",
      "7556                     169                   2              0     0   \n",
      "8767                     231                   3              0     0   \n",
      "9796                      98                   3              0     0   \n",
      "13560                    221                  10              1     0   \n",
      "13880                    113                   8              0     0   \n",
      "3885                     149                   6              1     0   \n",
      "3247                     202                   2              0     0   \n",
      "4126                     260                   6              0     0   \n",
      "5191                     246                   3              0     0   \n",
      "14412                    135                   3              0     1   \n",
      "9289                     135                   3              1     0   \n",
      "14100                    196                   3              0     0   \n",
      "11199                    207                  10              0     0   \n",
      "12517                    309                   4              0     1   \n",
      "13230                    285                   3              0     0   \n",
      "12464                    234                   5              0     1   \n",
      "13525                    179                   3              0     0   \n",
      "10143                    172                   3              0     0   \n",
      "...                      ...                 ...            ...   ...   \n",
      "7374                     223                   3              1     0   \n",
      "12825                    195                   2              0     0   \n",
      "7285                     147                   2              0     0   \n",
      "11761                    273                  10              0     0   \n",
      "11741                    200                   8              1     0   \n",
      "13542                    193                   2              0     0   \n",
      "7336                     266                   3              0     0   \n",
      "8556                     204                   3              1     0   \n",
      "434                      309                   4              0     1   \n",
      "14139                    170                   8              0     0   \n",
      "5380                     256                   3              0     0   \n",
      "6014                     169                   4              0     0   \n",
      "3203                     184                   2              0     0   \n",
      "14105                    266                   3              0     0   \n",
      "7667                     223                   4              1     0   \n",
      "3353                     196                   2              0     0   \n",
      "6584                     268                   4              0     0   \n",
      "9428                     219                   3              0     0   \n",
      "6198                     199                   2              0     0   \n",
      "14419                    128                   3              0     1   \n",
      "7711                     263                   3              0     0   \n",
      "5505                     174                   3              0     0   \n",
      "8330                     166                   4              1     0   \n",
      "7507                     105                   5              0     0   \n",
      "10073                    258                   4              1     0   \n",
      "10407                    216                   2              0     0   \n",
      "5989                     169                   5              0     0   \n",
      "13278                    185                   3              0     0   \n",
      "13752                    233                   7              0     0   \n",
      "14219                    224                   5              0     1   \n",
      "\n",
      "       promotion_last_5years   department  salary  \n",
      "7597                       0    technical     low  \n",
      "6126                       0        sales  medium  \n",
      "5904                       0        sales    high  \n",
      "8811                       0           hr    high  \n",
      "5532                       1    technical     low  \n",
      "4138                       0        sales     low  \n",
      "4785                       0      support  medium  \n",
      "4371                       0        sales     low  \n",
      "8344                       0        sales  medium  \n",
      "10725                      0    technical     low  \n",
      "7190                       0        sales  medium  \n",
      "13674                      1    marketing     low  \n",
      "7556                       0    marketing     low  \n",
      "8767                       0           IT  medium  \n",
      "9796                       0        sales     low  \n",
      "13560                      0   management    high  \n",
      "13880                      0    technical  medium  \n",
      "3885                       0        RandD  medium  \n",
      "3247                       0    technical  medium  \n",
      "4126                       0    technical    high  \n",
      "5191                       0      support     low  \n",
      "14412                      0      support     low  \n",
      "9289                       0      support     low  \n",
      "14100                      1   management    high  \n",
      "11199                      0        sales     low  \n",
      "12517                      0    technical     low  \n",
      "13230                      0        sales    high  \n",
      "12464                      0    marketing  medium  \n",
      "13525                      0    technical     low  \n",
      "10143                      0  product_mng  medium  \n",
      "...                      ...          ...     ...  \n",
      "7374                       0      support  medium  \n",
      "12825                      0    marketing  medium  \n",
      "7285                       0           hr     low  \n",
      "11761                      0        sales  medium  \n",
      "11741                      0        sales     low  \n",
      "13542                      0      support    high  \n",
      "7336                       0    marketing  medium  \n",
      "8556                       0    marketing     low  \n",
      "434                        0      support     low  \n",
      "14139                      0        sales     low  \n",
      "5380                       0    technical     low  \n",
      "6014                       0   management  medium  \n",
      "3203                       0        RandD    high  \n",
      "14105                      1   management    high  \n",
      "7667                       0    technical     low  \n",
      "3353                       0        RandD  medium  \n",
      "6584                       0        sales     low  \n",
      "9428                       0    technical     low  \n",
      "6198                       0        sales     low  \n",
      "14419                      0      support     low  \n",
      "7711                       0      support     low  \n",
      "5505                       0        sales  medium  \n",
      "8330                       0        sales     low  \n",
      "7507                       0        sales     low  \n",
      "10073                      0   accounting    high  \n",
      "10407                      0        sales     low  \n",
      "5989                       0    technical    high  \n",
      "13278                      0   management     low  \n",
      "13752                      0        sales  medium  \n",
      "14219                      0        sales     low  \n",
      "\n",
      "[100 rows x 10 columns]\n",
      "12859    0.99\n",
      "8000     0.72\n",
      "9207     0.77\n",
      "9284     0.57\n",
      "4777     0.63\n",
      "14198    0.19\n",
      "14214    0.72\n",
      "12852    0.93\n",
      "9024     0.63\n",
      "1880     0.76\n",
      "2667     0.53\n",
      "5791     0.48\n",
      "2642     0.85\n",
      "3275     0.60\n",
      "7043     0.57\n",
      "7050     0.68\n",
      "6620     0.17\n",
      "1625     0.11\n",
      "4757     0.85\n",
      "13115    0.58\n",
      "13526    0.66\n",
      "11656    0.78\n",
      "2555     0.56\n",
      "8796     0.96\n",
      "1855     0.85\n",
      "9139     0.69\n",
      "13919    0.43\n",
      "1392     0.39\n",
      "6423     0.36\n",
      "12123    0.11\n",
      "         ... \n",
      "14646    0.41\n",
      "8315     0.33\n",
      "13236    0.67\n",
      "2382     0.60\n",
      "47       0.57\n",
      "7879     0.51\n",
      "1489     0.40\n",
      "4260     0.68\n",
      "5937     0.68\n",
      "4912     0.66\n",
      "3046     0.66\n",
      "3306     0.63\n",
      "6604     0.19\n",
      "12638    0.84\n",
      "9558     0.81\n",
      "8644     0.72\n",
      "14259    0.40\n",
      "4473     0.28\n",
      "3407     0.54\n",
      "2828     0.52\n",
      "9387     0.34\n",
      "5140     0.41\n",
      "10648    0.99\n",
      "12890    0.63\n",
      "11615    0.87\n",
      "8719     0.73\n",
      "4819     0.80\n",
      "5287     0.71\n",
      "36       0.38\n",
      "9964     0.61\n",
      "Name: satisfaction_level, Length: 150, dtype: float64\n"
     ]
    }
   ],
   "source": [
    "import scipy.stats as ss\n",
    "mean,var,skew,kurt = ss.norm.stats(moments=\"mvsk\")\n",
    "print(mean, var, skew, kurt)#均值、方差、偏态、峰态\n",
    "print(ss.norm.pdf(0))#概率密度函数\n",
    "print(ss.norm.ppf(0.9))#分位值函数\n",
    "print(ss.norm.cdf(2))#累积分布函数\n",
    "print(ss.norm.cdf(2)-ss.norm.cdf(-2))\n",
    "print(ss.norm.rvs(size=100))#分布随机值生成\n",
    "print(ss.chi2)#卡方\n",
    "print(ss.t)#t分布\n",
    "print(ss.f)#F分布\n",
    "\n",
    "print(data.sample(100))#抽样\n",
    "print(data[\"satisfaction_level\"].sample(frac=0.01))"
   ]
  },
  {
   "cell_type": "code",
   "execution_count": 7,
   "metadata": {},
   "outputs": [],
   "source": [
    "le_s=data.last_evaluation"
   ]
  },
  {
   "cell_type": "code",
   "execution_count": 8,
   "metadata": {},
   "outputs": [
    {
     "data": {
      "text/plain": [
       "999999.0"
      ]
     },
     "execution_count": 8,
     "metadata": {},
     "output_type": "execute_result"
    }
   ],
   "source": [
    "le_s.max()"
   ]
  },
  {
   "cell_type": "code",
   "execution_count": 9,
   "metadata": {},
   "outputs": [
    {
     "data": {
      "text/plain": [
       "0.72"
      ]
     },
     "execution_count": 9,
     "metadata": {},
     "output_type": "execute_result"
    }
   ],
   "source": [
    "le_s.median()"
   ]
  },
  {
   "cell_type": "code",
   "execution_count": 10,
   "metadata": {},
   "outputs": [
    {
     "data": {
      "text/plain": [
       "0.36"
      ]
     },
     "execution_count": 10,
     "metadata": {},
     "output_type": "execute_result"
    }
   ],
   "source": [
    "le_s.min()"
   ]
  },
  {
   "cell_type": "code",
   "execution_count": 11,
   "metadata": {},
   "outputs": [
    {
     "data": {
      "text/plain": [
       "122.48265175204614"
      ]
     },
     "execution_count": 11,
     "metadata": {},
     "output_type": "execute_result"
    }
   ],
   "source": [
    "le_s.skew()"
   ]
  },
  {
   "cell_type": "code",
   "execution_count": 12,
   "metadata": {},
   "outputs": [
    {
     "data": {
      "text/plain": [
       "15000    999999.0\n",
       "Name: last_evaluation, dtype: float64"
      ]
     },
     "execution_count": 12,
     "metadata": {},
     "output_type": "execute_result"
    }
   ],
   "source": [
    "le_s[le_s>1]"
   ]
  },
  {
   "cell_type": "code",
   "execution_count": 13,
   "metadata": {},
   "outputs": [],
   "source": [
    "le_s=le_s[le_s<=1]"
   ]
  },
  {
   "cell_type": "code",
   "execution_count": 14,
   "metadata": {},
   "outputs": [
    {
     "data": {
      "text/plain": [
       "0.7160675954936238"
      ]
     },
     "execution_count": 14,
     "metadata": {},
     "output_type": "execute_result"
    }
   ],
   "source": [
    "le_s.mean()"
   ]
  },
  {
   "cell_type": "code",
   "execution_count": 15,
   "metadata": {},
   "outputs": [
    {
     "data": {
      "text/plain": [
       "0.72"
      ]
     },
     "execution_count": 15,
     "metadata": {},
     "output_type": "execute_result"
    }
   ],
   "source": [
    "le_s.quantile()"
   ]
  },
  {
   "cell_type": "code",
   "execution_count": 16,
   "metadata": {},
   "outputs": [
    {
     "data": {
      "text/plain": [
       "0.7160675954936238"
      ]
     },
     "execution_count": 16,
     "metadata": {},
     "output_type": "execute_result"
    }
   ],
   "source": [
    "le_s.mean()"
   ]
  },
  {
   "cell_type": "code",
   "execution_count": 17,
   "metadata": {},
   "outputs": [],
   "source": [
    "q_low=le_s.quantile(q=0.25)"
   ]
  },
  {
   "cell_type": "code",
   "execution_count": 18,
   "metadata": {},
   "outputs": [],
   "source": [
    "q_hiht=le_s.quantile(q=0.75)"
   ]
  },
  {
   "cell_type": "code",
   "execution_count": 19,
   "metadata": {},
   "outputs": [],
   "source": [
    "data_q=q_hiht-q_low"
   ]
  },
  {
   "cell_type": "code",
   "execution_count": 20,
   "metadata": {},
   "outputs": [
    {
     "data": {
      "text/plain": [
       "0.30999999999999994"
      ]
     },
     "execution_count": 20,
     "metadata": {},
     "output_type": "execute_result"
    }
   ],
   "source": [
    "data_q"
   ]
  },
  {
   "cell_type": "code",
   "execution_count": 21,
   "metadata": {},
   "outputs": [],
   "source": [
    "k=1.5"
   ]
  },
  {
   "cell_type": "code",
   "execution_count": 22,
   "metadata": {},
   "outputs": [],
   "source": [
    "le_real=le_s[le_s>q_low-1.5*data_q][le_s<q_hiht+1.5*data_q]"
   ]
  },
  {
   "cell_type": "code",
   "execution_count": 23,
   "metadata": {},
   "outputs": [
    {
     "data": {
      "text/plain": [
       "0        0.53\n",
       "1        0.86\n",
       "2        0.88\n",
       "3        0.87\n",
       "4        0.52\n",
       "5        0.50\n",
       "6        0.77\n",
       "7        0.85\n",
       "8        1.00\n",
       "9        0.53\n",
       "10       0.54\n",
       "11       0.81\n",
       "12       0.92\n",
       "13       0.55\n",
       "14       0.56\n",
       "15       0.54\n",
       "16       0.47\n",
       "17       0.99\n",
       "18       0.51\n",
       "19       0.89\n",
       "20       0.83\n",
       "21       0.55\n",
       "22       0.95\n",
       "23       0.57\n",
       "24       0.53\n",
       "25       0.92\n",
       "26       0.87\n",
       "27       0.49\n",
       "28       0.46\n",
       "29       0.50\n",
       "         ... \n",
       "14971    0.45\n",
       "14972    0.97\n",
       "14973    0.52\n",
       "14974    0.54\n",
       "14975    0.79\n",
       "14976    0.47\n",
       "14977    0.85\n",
       "14978    0.47\n",
       "14979    0.93\n",
       "14980    0.89\n",
       "14981    0.93\n",
       "14982    0.49\n",
       "14983    0.84\n",
       "14984    0.56\n",
       "14985    0.99\n",
       "14986    0.85\n",
       "14987    0.70\n",
       "14988    0.55\n",
       "14989    0.57\n",
       "14990    0.88\n",
       "14991    0.81\n",
       "14992    0.48\n",
       "14993    0.83\n",
       "14994    0.57\n",
       "14995    0.48\n",
       "14996    0.53\n",
       "14997    0.96\n",
       "14998    0.52\n",
       "14999    0.52\n",
       "15001    0.40\n",
       "Name: last_evaluation, Length: 15001, dtype: float64"
      ]
     },
     "execution_count": 23,
     "metadata": {},
     "output_type": "execute_result"
    }
   ],
   "source": [
    "le_real"
   ]
  },
  {
   "cell_type": "code",
   "execution_count": 24,
   "metadata": {},
   "outputs": [
    {
     "data": {
      "text/plain": [
       "15001"
      ]
     },
     "execution_count": 24,
     "metadata": {},
     "output_type": "execute_result"
    }
   ],
   "source": [
    "len(le_real)"
   ]
  },
  {
   "cell_type": "code",
   "execution_count": 25,
   "metadata": {},
   "outputs": [],
   "source": [
    "amh_s=data.average_monthly_hours"
   ]
  },
  {
   "cell_type": "code",
   "execution_count": 26,
   "metadata": {},
   "outputs": [
    {
     "data": {
      "text/plain": [
       "count    15002.000000\n",
       "mean       201.041728\n",
       "std         49.941815\n",
       "min         96.000000\n",
       "25%        156.000000\n",
       "50%        200.000000\n",
       "75%        245.000000\n",
       "max        310.000000\n",
       "Name: average_monthly_hours, dtype: float64"
      ]
     },
     "execution_count": 26,
     "metadata": {},
     "output_type": "execute_result"
    }
   ],
   "source": [
    "amh_s.describe()"
   ]
  },
  {
   "cell_type": "code",
   "execution_count": null,
   "metadata": {},
   "outputs": [],
   "source": []
  },
  {
   "cell_type": "code",
   "execution_count": 27,
   "metadata": {},
   "outputs": [],
   "source": [
    "np_s=data.number_project"
   ]
  },
  {
   "cell_type": "code",
   "execution_count": 28,
   "metadata": {},
   "outputs": [
    {
     "data": {
      "text/plain": [
       "count    15002.000000\n",
       "mean         3.802693\n",
       "std          1.232733\n",
       "min          2.000000\n",
       "25%          3.000000\n",
       "50%          4.000000\n",
       "75%          5.000000\n",
       "max          7.000000\n",
       "Name: number_project, dtype: float64"
      ]
     },
     "execution_count": 28,
     "metadata": {},
     "output_type": "execute_result"
    }
   ],
   "source": [
    "np_s.describe()"
   ]
  },
  {
   "cell_type": "code",
   "execution_count": 29,
   "metadata": {},
   "outputs": [
    {
     "data": {
      "text/plain": [
       "4    4365\n",
       "3    4055\n",
       "5    2761\n",
       "2    2391\n",
       "6    1174\n",
       "7     256\n",
       "Name: number_project, dtype: int64"
      ]
     },
     "execution_count": 29,
     "metadata": {},
     "output_type": "execute_result"
    }
   ],
   "source": [
    "np_s.value_counts()"
   ]
  },
  {
   "cell_type": "code",
   "execution_count": 30,
   "metadata": {},
   "outputs": [
    {
     "data": {
      "text/plain": [
       "2    0.159379\n",
       "3    0.270297\n",
       "4    0.290961\n",
       "5    0.184042\n",
       "6    0.078256\n",
       "7    0.017064\n",
       "Name: number_project, dtype: float64"
      ]
     },
     "execution_count": 30,
     "metadata": {},
     "output_type": "execute_result"
    }
   ],
   "source": [
    "np_s.value_counts(normalize=True).sort_index()"
   ]
  },
  {
   "cell_type": "code",
   "execution_count": 31,
   "metadata": {},
   "outputs": [
    {
     "data": {
      "text/plain": [
       "count    15002.000000\n",
       "mean       201.041728\n",
       "std         49.941815\n",
       "min         96.000000\n",
       "25%        156.000000\n",
       "50%        200.000000\n",
       "75%        245.000000\n",
       "max        310.000000\n",
       "Name: average_monthly_hours, dtype: float64"
      ]
     },
     "execution_count": 31,
     "metadata": {},
     "output_type": "execute_result"
    }
   ],
   "source": [
    "amh_s.describe()"
   ]
  },
  {
   "cell_type": "code",
   "execution_count": 32,
   "metadata": {},
   "outputs": [],
   "source": [
    "import seaborn as sns\n",
    "import matplotlib.pyplot as plt\n",
    "\n",
    "import numpy as np\n",
    "%matplotlib inline\n",
    "sns.set_style(style=\"darkgrid\")#配置样式\n",
    "sns.set_context(context=\"poster\",font_scale=1.5)#配置字体\n",
    "sns.set_palette(sns.color_palette(\"RdBu\", n_colors=7))#配置色板"
   ]
  },
  {
   "cell_type": "code",
   "execution_count": 33,
   "metadata": {},
   "outputs": [
    {
     "data": {
      "image/png": "[encoded data removed]",
      "text/plain": [
       "<Figure size 432x288 with 1 Axes>"
      ]
     },
     "metadata": {},
     "output_type": "display_data"
    },
    {
     "data": {
      "image/png": "[encoded data removed]",
      "text/plain": [
       "<Figure size 432x288 with 1 Axes>"
      ]
     },
     "metadata": {},
     "output_type": "display_data"
    }
   ],
   "source": [
    "df=data\n",
    "lbs=df[\"department\"].value_counts().index\n",
    "explodes=[0.1 if i==\"sales\" else 0 for i in lbs ]\n",
    "plt.pie(df[\"department\"].value_counts(normalize=True),explode=explodes,autopct='%1.1f%%',colors=sns.color_palette(\"Reds\", n_colors=7),labels=df[\"department\"].value_counts().index)\n",
    "plt.show()\n",
    "plt.pie(df[\"number_project\"].value_counts(normalize=True),labels=df[\"number_project\"].value_counts().index)\n",
    "plt.show()"
   ]
  },
  {
   "cell_type": "code",
   "execution_count": 34,
   "metadata": {},
   "outputs": [],
   "source": [
    "data=data.dropna(axis=0,how=\"any\")"
   ]
  },
  {
   "cell_type": "code",
   "execution_count": 35,
   "metadata": {},
   "outputs": [
    {
     "name": "stderr",
     "output_type": "stream",
     "text": [
      "D:\\anconda\\lib\\site-packages\\ipykernel_launcher.py:1: UserWarning: Boolean Series key will be reindexed to match DataFrame index.\n",
      "  \"\"\"Entry point for launching an IPython kernel.\n"
     ]
    }
   ],
   "source": [
    "data=data[data.satisfaction_level<=1][data.salary != \"nme\"][data.department != \"sale\"]"
   ]
  },
  {
   "cell_type": "code",
   "execution_count": 36,
   "metadata": {},
   "outputs": [
    {
     "data": {
      "text/html": [
       "<div>\n",
       "<style scoped>\n",
       "    .dataframe tbody tr th:only-of-type {\n",
       "        vertical-align: middle;\n",
       "    }\n",
       "\n",
       "    .dataframe tbody tr th {\n",
       "        vertical-align: top;\n",
       "    }\n",
       "\n",
       "    .dataframe thead th {\n",
       "        text-align: right;\n",
       "    }\n",
       "</style>\n",
       "<table border=\"1\" class=\"dataframe\">\n",
       "  <thead>\n",
       "    <tr style=\"text-align: right;\">\n",
       "      <th></th>\n",
       "      <th>satisfaction_level</th>\n",
       "      <th>last_evaluation</th>\n",
       "      <th>number_project</th>\n",
       "      <th>average_monthly_hours</th>\n",
       "      <th>time_spend_company</th>\n",
       "      <th>Work_accident</th>\n",
       "      <th>left</th>\n",
       "      <th>promotion_last_5years</th>\n",
       "      <th>department</th>\n",
       "      <th>salary</th>\n",
       "    </tr>\n",
       "  </thead>\n",
       "  <tbody>\n",
       "    <tr>\n",
       "      <th>0</th>\n",
       "      <td>0.38</td>\n",
       "      <td>0.53</td>\n",
       "      <td>2</td>\n",
       "      <td>157</td>\n",
       "      <td>3</td>\n",
       "      <td>0</td>\n",
       "      <td>1</td>\n",
       "      <td>0</td>\n",
       "      <td>sales</td>\n",
       "      <td>low</td>\n",
       "    </tr>\n",
       "    <tr>\n",
       "      <th>1</th>\n",
       "      <td>0.80</td>\n",
       "      <td>0.86</td>\n",
       "      <td>5</td>\n",
       "      <td>262</td>\n",
       "      <td>6</td>\n",
       "      <td>0</td>\n",
       "      <td>1</td>\n",
       "      <td>0</td>\n",
       "      <td>sales</td>\n",
       "      <td>medium</td>\n",
       "    </tr>\n",
       "    <tr>\n",
       "      <th>2</th>\n",
       "      <td>0.11</td>\n",
       "      <td>0.88</td>\n",
       "      <td>7</td>\n",
       "      <td>272</td>\n",
       "      <td>4</td>\n",
       "      <td>0</td>\n",
       "      <td>1</td>\n",
       "      <td>0</td>\n",
       "      <td>sales</td>\n",
       "      <td>medium</td>\n",
       "    </tr>\n",
       "    <tr>\n",
       "      <th>3</th>\n",
       "      <td>0.72</td>\n",
       "      <td>0.87</td>\n",
       "      <td>5</td>\n",
       "      <td>223</td>\n",
       "      <td>5</td>\n",
       "      <td>0</td>\n",
       "      <td>1</td>\n",
       "      <td>0</td>\n",
       "      <td>sales</td>\n",
       "      <td>low</td>\n",
       "    </tr>\n",
       "    <tr>\n",
       "      <th>4</th>\n",
       "      <td>0.37</td>\n",
       "      <td>0.52</td>\n",
       "      <td>2</td>\n",
       "      <td>159</td>\n",
       "      <td>3</td>\n",
       "      <td>0</td>\n",
       "      <td>1</td>\n",
       "      <td>0</td>\n",
       "      <td>sales</td>\n",
       "      <td>low</td>\n",
       "    </tr>\n",
       "    <tr>\n",
       "      <th>5</th>\n",
       "      <td>0.41</td>\n",
       "      <td>0.50</td>\n",
       "      <td>2</td>\n",
       "      <td>153</td>\n",
       "      <td>3</td>\n",
       "      <td>0</td>\n",
       "      <td>1</td>\n",
       "      <td>0</td>\n",
       "      <td>sales</td>\n",
       "      <td>low</td>\n",
       "    </tr>\n",
       "    <tr>\n",
       "      <th>6</th>\n",
       "      <td>0.10</td>\n",
       "      <td>0.77</td>\n",
       "      <td>6</td>\n",
       "      <td>247</td>\n",
       "      <td>4</td>\n",
       "      <td>0</td>\n",
       "      <td>1</td>\n",
       "      <td>0</td>\n",
       "      <td>sales</td>\n",
       "      <td>low</td>\n",
       "    </tr>\n",
       "    <tr>\n",
       "      <th>7</th>\n",
       "      <td>0.92</td>\n",
       "      <td>0.85</td>\n",
       "      <td>5</td>\n",
       "      <td>259</td>\n",
       "      <td>5</td>\n",
       "      <td>0</td>\n",
       "      <td>1</td>\n",
       "      <td>0</td>\n",
       "      <td>sales</td>\n",
       "      <td>low</td>\n",
       "    </tr>\n",
       "    <tr>\n",
       "      <th>8</th>\n",
       "      <td>0.89</td>\n",
       "      <td>1.00</td>\n",
       "      <td>5</td>\n",
       "      <td>224</td>\n",
       "      <td>5</td>\n",
       "      <td>0</td>\n",
       "      <td>1</td>\n",
       "      <td>0</td>\n",
       "      <td>sales</td>\n",
       "      <td>low</td>\n",
       "    </tr>\n",
       "    <tr>\n",
       "      <th>9</th>\n",
       "      <td>0.42</td>\n",
       "      <td>0.53</td>\n",
       "      <td>2</td>\n",
       "      <td>142</td>\n",
       "      <td>3</td>\n",
       "      <td>0</td>\n",
       "      <td>1</td>\n",
       "      <td>0</td>\n",
       "      <td>sales</td>\n",
       "      <td>low</td>\n",
       "    </tr>\n",
       "    <tr>\n",
       "      <th>10</th>\n",
       "      <td>0.45</td>\n",
       "      <td>0.54</td>\n",
       "      <td>2</td>\n",
       "      <td>135</td>\n",
       "      <td>3</td>\n",
       "      <td>0</td>\n",
       "      <td>1</td>\n",
       "      <td>0</td>\n",
       "      <td>sales</td>\n",
       "      <td>low</td>\n",
       "    </tr>\n",
       "    <tr>\n",
       "      <th>11</th>\n",
       "      <td>0.11</td>\n",
       "      <td>0.81</td>\n",
       "      <td>6</td>\n",
       "      <td>305</td>\n",
       "      <td>4</td>\n",
       "      <td>0</td>\n",
       "      <td>1</td>\n",
       "      <td>0</td>\n",
       "      <td>sales</td>\n",
       "      <td>low</td>\n",
       "    </tr>\n",
       "    <tr>\n",
       "      <th>12</th>\n",
       "      <td>0.84</td>\n",
       "      <td>0.92</td>\n",
       "      <td>4</td>\n",
       "      <td>234</td>\n",
       "      <td>5</td>\n",
       "      <td>0</td>\n",
       "      <td>1</td>\n",
       "      <td>0</td>\n",
       "      <td>sales</td>\n",
       "      <td>low</td>\n",
       "    </tr>\n",
       "    <tr>\n",
       "      <th>13</th>\n",
       "      <td>0.41</td>\n",
       "      <td>0.55</td>\n",
       "      <td>2</td>\n",
       "      <td>148</td>\n",
       "      <td>3</td>\n",
       "      <td>0</td>\n",
       "      <td>1</td>\n",
       "      <td>0</td>\n",
       "      <td>sales</td>\n",
       "      <td>low</td>\n",
       "    </tr>\n",
       "    <tr>\n",
       "      <th>14</th>\n",
       "      <td>0.36</td>\n",
       "      <td>0.56</td>\n",
       "      <td>2</td>\n",
       "      <td>137</td>\n",
       "      <td>3</td>\n",
       "      <td>0</td>\n",
       "      <td>1</td>\n",
       "      <td>0</td>\n",
       "      <td>sales</td>\n",
       "      <td>low</td>\n",
       "    </tr>\n",
       "    <tr>\n",
       "      <th>15</th>\n",
       "      <td>0.38</td>\n",
       "      <td>0.54</td>\n",
       "      <td>2</td>\n",
       "      <td>143</td>\n",
       "      <td>3</td>\n",
       "      <td>0</td>\n",
       "      <td>1</td>\n",
       "      <td>0</td>\n",
       "      <td>sales</td>\n",
       "      <td>low</td>\n",
       "    </tr>\n",
       "    <tr>\n",
       "      <th>16</th>\n",
       "      <td>0.45</td>\n",
       "      <td>0.47</td>\n",
       "      <td>2</td>\n",
       "      <td>160</td>\n",
       "      <td>3</td>\n",
       "      <td>0</td>\n",
       "      <td>1</td>\n",
       "      <td>0</td>\n",
       "      <td>sales</td>\n",
       "      <td>low</td>\n",
       "    </tr>\n",
       "    <tr>\n",
       "      <th>17</th>\n",
       "      <td>0.78</td>\n",
       "      <td>0.99</td>\n",
       "      <td>4</td>\n",
       "      <td>255</td>\n",
       "      <td>6</td>\n",
       "      <td>0</td>\n",
       "      <td>1</td>\n",
       "      <td>0</td>\n",
       "      <td>sales</td>\n",
       "      <td>low</td>\n",
       "    </tr>\n",
       "    <tr>\n",
       "      <th>18</th>\n",
       "      <td>0.45</td>\n",
       "      <td>0.51</td>\n",
       "      <td>2</td>\n",
       "      <td>160</td>\n",
       "      <td>3</td>\n",
       "      <td>1</td>\n",
       "      <td>1</td>\n",
       "      <td>1</td>\n",
       "      <td>sales</td>\n",
       "      <td>low</td>\n",
       "    </tr>\n",
       "    <tr>\n",
       "      <th>19</th>\n",
       "      <td>0.76</td>\n",
       "      <td>0.89</td>\n",
       "      <td>5</td>\n",
       "      <td>262</td>\n",
       "      <td>5</td>\n",
       "      <td>0</td>\n",
       "      <td>1</td>\n",
       "      <td>0</td>\n",
       "      <td>sales</td>\n",
       "      <td>low</td>\n",
       "    </tr>\n",
       "    <tr>\n",
       "      <th>20</th>\n",
       "      <td>0.11</td>\n",
       "      <td>0.83</td>\n",
       "      <td>6</td>\n",
       "      <td>282</td>\n",
       "      <td>4</td>\n",
       "      <td>0</td>\n",
       "      <td>1</td>\n",
       "      <td>0</td>\n",
       "      <td>sales</td>\n",
       "      <td>low</td>\n",
       "    </tr>\n",
       "    <tr>\n",
       "      <th>21</th>\n",
       "      <td>0.38</td>\n",
       "      <td>0.55</td>\n",
       "      <td>2</td>\n",
       "      <td>147</td>\n",
       "      <td>3</td>\n",
       "      <td>0</td>\n",
       "      <td>1</td>\n",
       "      <td>0</td>\n",
       "      <td>sales</td>\n",
       "      <td>low</td>\n",
       "    </tr>\n",
       "    <tr>\n",
       "      <th>22</th>\n",
       "      <td>0.09</td>\n",
       "      <td>0.95</td>\n",
       "      <td>6</td>\n",
       "      <td>304</td>\n",
       "      <td>4</td>\n",
       "      <td>0</td>\n",
       "      <td>1</td>\n",
       "      <td>0</td>\n",
       "      <td>sales</td>\n",
       "      <td>low</td>\n",
       "    </tr>\n",
       "    <tr>\n",
       "      <th>23</th>\n",
       "      <td>0.46</td>\n",
       "      <td>0.57</td>\n",
       "      <td>2</td>\n",
       "      <td>139</td>\n",
       "      <td>3</td>\n",
       "      <td>0</td>\n",
       "      <td>1</td>\n",
       "      <td>0</td>\n",
       "      <td>sales</td>\n",
       "      <td>low</td>\n",
       "    </tr>\n",
       "    <tr>\n",
       "      <th>24</th>\n",
       "      <td>0.40</td>\n",
       "      <td>0.53</td>\n",
       "      <td>2</td>\n",
       "      <td>158</td>\n",
       "      <td>3</td>\n",
       "      <td>0</td>\n",
       "      <td>1</td>\n",
       "      <td>0</td>\n",
       "      <td>sales</td>\n",
       "      <td>low</td>\n",
       "    </tr>\n",
       "    <tr>\n",
       "      <th>25</th>\n",
       "      <td>0.89</td>\n",
       "      <td>0.92</td>\n",
       "      <td>5</td>\n",
       "      <td>242</td>\n",
       "      <td>5</td>\n",
       "      <td>0</td>\n",
       "      <td>1</td>\n",
       "      <td>0</td>\n",
       "      <td>sales</td>\n",
       "      <td>low</td>\n",
       "    </tr>\n",
       "    <tr>\n",
       "      <th>26</th>\n",
       "      <td>0.82</td>\n",
       "      <td>0.87</td>\n",
       "      <td>4</td>\n",
       "      <td>239</td>\n",
       "      <td>5</td>\n",
       "      <td>0</td>\n",
       "      <td>1</td>\n",
       "      <td>0</td>\n",
       "      <td>sales</td>\n",
       "      <td>low</td>\n",
       "    </tr>\n",
       "    <tr>\n",
       "      <th>27</th>\n",
       "      <td>0.40</td>\n",
       "      <td>0.49</td>\n",
       "      <td>2</td>\n",
       "      <td>135</td>\n",
       "      <td>3</td>\n",
       "      <td>0</td>\n",
       "      <td>1</td>\n",
       "      <td>0</td>\n",
       "      <td>sales</td>\n",
       "      <td>low</td>\n",
       "    </tr>\n",
       "    <tr>\n",
       "      <th>28</th>\n",
       "      <td>0.41</td>\n",
       "      <td>0.46</td>\n",
       "      <td>2</td>\n",
       "      <td>128</td>\n",
       "      <td>3</td>\n",
       "      <td>0</td>\n",
       "      <td>1</td>\n",
       "      <td>0</td>\n",
       "      <td>accounting</td>\n",
       "      <td>low</td>\n",
       "    </tr>\n",
       "    <tr>\n",
       "      <th>29</th>\n",
       "      <td>0.38</td>\n",
       "      <td>0.50</td>\n",
       "      <td>2</td>\n",
       "      <td>132</td>\n",
       "      <td>3</td>\n",
       "      <td>0</td>\n",
       "      <td>1</td>\n",
       "      <td>0</td>\n",
       "      <td>accounting</td>\n",
       "      <td>low</td>\n",
       "    </tr>\n",
       "    <tr>\n",
       "      <th>...</th>\n",
       "      <td>...</td>\n",
       "      <td>...</td>\n",
       "      <td>...</td>\n",
       "      <td>...</td>\n",
       "      <td>...</td>\n",
       "      <td>...</td>\n",
       "      <td>...</td>\n",
       "      <td>...</td>\n",
       "      <td>...</td>\n",
       "      <td>...</td>\n",
       "    </tr>\n",
       "    <tr>\n",
       "      <th>14969</th>\n",
       "      <td>0.43</td>\n",
       "      <td>0.46</td>\n",
       "      <td>2</td>\n",
       "      <td>157</td>\n",
       "      <td>3</td>\n",
       "      <td>0</td>\n",
       "      <td>1</td>\n",
       "      <td>0</td>\n",
       "      <td>sales</td>\n",
       "      <td>medium</td>\n",
       "    </tr>\n",
       "    <tr>\n",
       "      <th>14970</th>\n",
       "      <td>0.78</td>\n",
       "      <td>0.93</td>\n",
       "      <td>4</td>\n",
       "      <td>225</td>\n",
       "      <td>5</td>\n",
       "      <td>0</td>\n",
       "      <td>1</td>\n",
       "      <td>0</td>\n",
       "      <td>sales</td>\n",
       "      <td>medium</td>\n",
       "    </tr>\n",
       "    <tr>\n",
       "      <th>14971</th>\n",
       "      <td>0.39</td>\n",
       "      <td>0.45</td>\n",
       "      <td>2</td>\n",
       "      <td>140</td>\n",
       "      <td>3</td>\n",
       "      <td>0</td>\n",
       "      <td>1</td>\n",
       "      <td>0</td>\n",
       "      <td>sales</td>\n",
       "      <td>medium</td>\n",
       "    </tr>\n",
       "    <tr>\n",
       "      <th>14972</th>\n",
       "      <td>0.11</td>\n",
       "      <td>0.97</td>\n",
       "      <td>6</td>\n",
       "      <td>310</td>\n",
       "      <td>4</td>\n",
       "      <td>0</td>\n",
       "      <td>1</td>\n",
       "      <td>0</td>\n",
       "      <td>accounting</td>\n",
       "      <td>medium</td>\n",
       "    </tr>\n",
       "    <tr>\n",
       "      <th>14973</th>\n",
       "      <td>0.36</td>\n",
       "      <td>0.52</td>\n",
       "      <td>2</td>\n",
       "      <td>143</td>\n",
       "      <td>3</td>\n",
       "      <td>0</td>\n",
       "      <td>1</td>\n",
       "      <td>0</td>\n",
       "      <td>accounting</td>\n",
       "      <td>medium</td>\n",
       "    </tr>\n",
       "    <tr>\n",
       "      <th>14974</th>\n",
       "      <td>0.36</td>\n",
       "      <td>0.54</td>\n",
       "      <td>2</td>\n",
       "      <td>153</td>\n",
       "      <td>3</td>\n",
       "      <td>0</td>\n",
       "      <td>1</td>\n",
       "      <td>0</td>\n",
       "      <td>accounting</td>\n",
       "      <td>medium</td>\n",
       "    </tr>\n",
       "    <tr>\n",
       "      <th>14975</th>\n",
       "      <td>0.10</td>\n",
       "      <td>0.79</td>\n",
       "      <td>7</td>\n",
       "      <td>310</td>\n",
       "      <td>4</td>\n",
       "      <td>0</td>\n",
       "      <td>1</td>\n",
       "      <td>0</td>\n",
       "      <td>hr</td>\n",
       "      <td>medium</td>\n",
       "    </tr>\n",
       "    <tr>\n",
       "      <th>14976</th>\n",
       "      <td>0.40</td>\n",
       "      <td>0.47</td>\n",
       "      <td>2</td>\n",
       "      <td>136</td>\n",
       "      <td>3</td>\n",
       "      <td>0</td>\n",
       "      <td>1</td>\n",
       "      <td>0</td>\n",
       "      <td>hr</td>\n",
       "      <td>medium</td>\n",
       "    </tr>\n",
       "    <tr>\n",
       "      <th>14977</th>\n",
       "      <td>0.81</td>\n",
       "      <td>0.85</td>\n",
       "      <td>4</td>\n",
       "      <td>251</td>\n",
       "      <td>6</td>\n",
       "      <td>0</td>\n",
       "      <td>1</td>\n",
       "      <td>0</td>\n",
       "      <td>hr</td>\n",
       "      <td>medium</td>\n",
       "    </tr>\n",
       "    <tr>\n",
       "      <th>14978</th>\n",
       "      <td>0.40</td>\n",
       "      <td>0.47</td>\n",
       "      <td>2</td>\n",
       "      <td>144</td>\n",
       "      <td>3</td>\n",
       "      <td>0</td>\n",
       "      <td>1</td>\n",
       "      <td>0</td>\n",
       "      <td>hr</td>\n",
       "      <td>medium</td>\n",
       "    </tr>\n",
       "    <tr>\n",
       "      <th>14979</th>\n",
       "      <td>0.09</td>\n",
       "      <td>0.93</td>\n",
       "      <td>6</td>\n",
       "      <td>296</td>\n",
       "      <td>4</td>\n",
       "      <td>0</td>\n",
       "      <td>1</td>\n",
       "      <td>0</td>\n",
       "      <td>technical</td>\n",
       "      <td>medium</td>\n",
       "    </tr>\n",
       "    <tr>\n",
       "      <th>14980</th>\n",
       "      <td>0.76</td>\n",
       "      <td>0.89</td>\n",
       "      <td>5</td>\n",
       "      <td>238</td>\n",
       "      <td>5</td>\n",
       "      <td>0</td>\n",
       "      <td>1</td>\n",
       "      <td>0</td>\n",
       "      <td>technical</td>\n",
       "      <td>high</td>\n",
       "    </tr>\n",
       "    <tr>\n",
       "      <th>14981</th>\n",
       "      <td>0.73</td>\n",
       "      <td>0.93</td>\n",
       "      <td>5</td>\n",
       "      <td>162</td>\n",
       "      <td>4</td>\n",
       "      <td>0</td>\n",
       "      <td>1</td>\n",
       "      <td>0</td>\n",
       "      <td>technical</td>\n",
       "      <td>low</td>\n",
       "    </tr>\n",
       "    <tr>\n",
       "      <th>14982</th>\n",
       "      <td>0.38</td>\n",
       "      <td>0.49</td>\n",
       "      <td>2</td>\n",
       "      <td>137</td>\n",
       "      <td>3</td>\n",
       "      <td>0</td>\n",
       "      <td>1</td>\n",
       "      <td>0</td>\n",
       "      <td>technical</td>\n",
       "      <td>medium</td>\n",
       "    </tr>\n",
       "    <tr>\n",
       "      <th>14983</th>\n",
       "      <td>0.72</td>\n",
       "      <td>0.84</td>\n",
       "      <td>5</td>\n",
       "      <td>257</td>\n",
       "      <td>5</td>\n",
       "      <td>0</td>\n",
       "      <td>1</td>\n",
       "      <td>0</td>\n",
       "      <td>technical</td>\n",
       "      <td>medium</td>\n",
       "    </tr>\n",
       "    <tr>\n",
       "      <th>14984</th>\n",
       "      <td>0.40</td>\n",
       "      <td>0.56</td>\n",
       "      <td>2</td>\n",
       "      <td>148</td>\n",
       "      <td>3</td>\n",
       "      <td>0</td>\n",
       "      <td>1</td>\n",
       "      <td>0</td>\n",
       "      <td>technical</td>\n",
       "      <td>medium</td>\n",
       "    </tr>\n",
       "    <tr>\n",
       "      <th>14985</th>\n",
       "      <td>0.91</td>\n",
       "      <td>0.99</td>\n",
       "      <td>5</td>\n",
       "      <td>254</td>\n",
       "      <td>5</td>\n",
       "      <td>0</td>\n",
       "      <td>1</td>\n",
       "      <td>0</td>\n",
       "      <td>technical</td>\n",
       "      <td>medium</td>\n",
       "    </tr>\n",
       "    <tr>\n",
       "      <th>14986</th>\n",
       "      <td>0.85</td>\n",
       "      <td>0.85</td>\n",
       "      <td>4</td>\n",
       "      <td>247</td>\n",
       "      <td>6</td>\n",
       "      <td>0</td>\n",
       "      <td>1</td>\n",
       "      <td>0</td>\n",
       "      <td>technical</td>\n",
       "      <td>low</td>\n",
       "    </tr>\n",
       "    <tr>\n",
       "      <th>14987</th>\n",
       "      <td>0.90</td>\n",
       "      <td>0.70</td>\n",
       "      <td>5</td>\n",
       "      <td>206</td>\n",
       "      <td>4</td>\n",
       "      <td>0</td>\n",
       "      <td>1</td>\n",
       "      <td>0</td>\n",
       "      <td>technical</td>\n",
       "      <td>low</td>\n",
       "    </tr>\n",
       "    <tr>\n",
       "      <th>14988</th>\n",
       "      <td>0.46</td>\n",
       "      <td>0.55</td>\n",
       "      <td>2</td>\n",
       "      <td>145</td>\n",
       "      <td>3</td>\n",
       "      <td>0</td>\n",
       "      <td>1</td>\n",
       "      <td>0</td>\n",
       "      <td>technical</td>\n",
       "      <td>low</td>\n",
       "    </tr>\n",
       "    <tr>\n",
       "      <th>14989</th>\n",
       "      <td>0.43</td>\n",
       "      <td>0.57</td>\n",
       "      <td>2</td>\n",
       "      <td>159</td>\n",
       "      <td>3</td>\n",
       "      <td>1</td>\n",
       "      <td>1</td>\n",
       "      <td>0</td>\n",
       "      <td>technical</td>\n",
       "      <td>low</td>\n",
       "    </tr>\n",
       "    <tr>\n",
       "      <th>14990</th>\n",
       "      <td>0.89</td>\n",
       "      <td>0.88</td>\n",
       "      <td>5</td>\n",
       "      <td>228</td>\n",
       "      <td>5</td>\n",
       "      <td>1</td>\n",
       "      <td>1</td>\n",
       "      <td>0</td>\n",
       "      <td>support</td>\n",
       "      <td>low</td>\n",
       "    </tr>\n",
       "    <tr>\n",
       "      <th>14991</th>\n",
       "      <td>0.09</td>\n",
       "      <td>0.81</td>\n",
       "      <td>6</td>\n",
       "      <td>257</td>\n",
       "      <td>4</td>\n",
       "      <td>0</td>\n",
       "      <td>1</td>\n",
       "      <td>0</td>\n",
       "      <td>support</td>\n",
       "      <td>low</td>\n",
       "    </tr>\n",
       "    <tr>\n",
       "      <th>14992</th>\n",
       "      <td>0.40</td>\n",
       "      <td>0.48</td>\n",
       "      <td>2</td>\n",
       "      <td>155</td>\n",
       "      <td>3</td>\n",
       "      <td>0</td>\n",
       "      <td>1</td>\n",
       "      <td>0</td>\n",
       "      <td>support</td>\n",
       "      <td>low</td>\n",
       "    </tr>\n",
       "    <tr>\n",
       "      <th>14993</th>\n",
       "      <td>0.76</td>\n",
       "      <td>0.83</td>\n",
       "      <td>6</td>\n",
       "      <td>293</td>\n",
       "      <td>6</td>\n",
       "      <td>0</td>\n",
       "      <td>1</td>\n",
       "      <td>0</td>\n",
       "      <td>support</td>\n",
       "      <td>low</td>\n",
       "    </tr>\n",
       "    <tr>\n",
       "      <th>14994</th>\n",
       "      <td>0.40</td>\n",
       "      <td>0.57</td>\n",
       "      <td>2</td>\n",
       "      <td>151</td>\n",
       "      <td>3</td>\n",
       "      <td>0</td>\n",
       "      <td>1</td>\n",
       "      <td>0</td>\n",
       "      <td>support</td>\n",
       "      <td>low</td>\n",
       "    </tr>\n",
       "    <tr>\n",
       "      <th>14995</th>\n",
       "      <td>0.37</td>\n",
       "      <td>0.48</td>\n",
       "      <td>2</td>\n",
       "      <td>160</td>\n",
       "      <td>3</td>\n",
       "      <td>0</td>\n",
       "      <td>1</td>\n",
       "      <td>0</td>\n",
       "      <td>support</td>\n",
       "      <td>low</td>\n",
       "    </tr>\n",
       "    <tr>\n",
       "      <th>14996</th>\n",
       "      <td>0.37</td>\n",
       "      <td>0.53</td>\n",
       "      <td>2</td>\n",
       "      <td>143</td>\n",
       "      <td>3</td>\n",
       "      <td>0</td>\n",
       "      <td>1</td>\n",
       "      <td>0</td>\n",
       "      <td>support</td>\n",
       "      <td>low</td>\n",
       "    </tr>\n",
       "    <tr>\n",
       "      <th>14997</th>\n",
       "      <td>0.11</td>\n",
       "      <td>0.96</td>\n",
       "      <td>6</td>\n",
       "      <td>280</td>\n",
       "      <td>4</td>\n",
       "      <td>0</td>\n",
       "      <td>1</td>\n",
       "      <td>0</td>\n",
       "      <td>support</td>\n",
       "      <td>low</td>\n",
       "    </tr>\n",
       "    <tr>\n",
       "      <th>14998</th>\n",
       "      <td>0.37</td>\n",
       "      <td>0.52</td>\n",
       "      <td>2</td>\n",
       "      <td>158</td>\n",
       "      <td>3</td>\n",
       "      <td>0</td>\n",
       "      <td>1</td>\n",
       "      <td>0</td>\n",
       "      <td>support</td>\n",
       "      <td>low</td>\n",
       "    </tr>\n",
       "  </tbody>\n",
       "</table>\n",
       "<p>14999 rows × 10 columns</p>\n",
       "</div>"
      ],
      "text/plain": [
       "       satisfaction_level  last_evaluation  number_project  \\\n",
       "0                    0.38             0.53               2   \n",
       "1                    0.80             0.86               5   \n",
       "2                    0.11             0.88               7   \n",
       "3                    0.72             0.87               5   \n",
       "4                    0.37             0.52               2   \n",
       "5                    0.41             0.50               2   \n",
       "6                    0.10             0.77               6   \n",
       "7                    0.92             0.85               5   \n",
       "8                    0.89             1.00               5   \n",
       "9                    0.42             0.53               2   \n",
       "10                   0.45             0.54               2   \n",
       "11                   0.11             0.81               6   \n",
       "12                   0.84             0.92               4   \n",
       "13                   0.41             0.55               2   \n",
       "14                   0.36             0.56               2   \n",
       "15                   0.38             0.54               2   \n",
       "16                   0.45             0.47               2   \n",
       "17                   0.78             0.99               4   \n",
       "18                   0.45             0.51               2   \n",
       "19                   0.76             0.89               5   \n",
       "20                   0.11             0.83               6   \n",
       "21                   0.38             0.55               2   \n",
       "22                   0.09             0.95               6   \n",
       "23                   0.46             0.57               2   \n",
       "24                   0.40             0.53               2   \n",
       "25                   0.89             0.92               5   \n",
       "26                   0.82             0.87               4   \n",
       "27                   0.40             0.49               2   \n",
       "28                   0.41             0.46               2   \n",
       "29                   0.38             0.50               2   \n",
       "...                   ...              ...             ...   \n",
       "14969                0.43             0.46               2   \n",
       "14970                0.78             0.93               4   \n",
       "14971                0.39             0.45               2   \n",
       "14972                0.11             0.97               6   \n",
       "14973                0.36             0.52               2   \n",
       "14974                0.36             0.54               2   \n",
       "14975                0.10             0.79               7   \n",
       "14976                0.40             0.47               2   \n",
       "14977                0.81             0.85               4   \n",
       "14978                0.40             0.47               2   \n",
       "14979                0.09             0.93               6   \n",
       "14980                0.76             0.89               5   \n",
       "14981                0.73             0.93               5   \n",
       "14982                0.38             0.49               2   \n",
       "14983                0.72             0.84               5   \n",
       "14984                0.40             0.56               2   \n",
       "14985                0.91             0.99               5   \n",
       "14986                0.85             0.85               4   \n",
       "14987                0.90             0.70               5   \n",
       "14988                0.46             0.55               2   \n",
       "14989                0.43             0.57               2   \n",
       "14990                0.89             0.88               5   \n",
       "14991                0.09             0.81               6   \n",
       "14992                0.40             0.48               2   \n",
       "14993                0.76             0.83               6   \n",
       "14994                0.40             0.57               2   \n",
       "14995                0.37             0.48               2   \n",
       "14996                0.37             0.53               2   \n",
       "14997                0.11             0.96               6   \n",
       "14998                0.37             0.52               2   \n",
       "\n",
       "       average_monthly_hours  time_spend_company  Work_accident  left  \\\n",
       "0                        157                   3              0     1   \n",
       "1                        262                   6              0     1   \n",
       "2                        272                   4              0     1   \n",
       "3                        223                   5              0     1   \n",
       "4                        159                   3              0     1   \n",
       "5                        153                   3              0     1   \n",
       "6                        247                   4              0     1   \n",
       "7                        259                   5              0     1   \n",
       "8                        224                   5              0     1   \n",
       "9                        142                   3              0     1   \n",
       "10                       135                   3              0     1   \n",
       "11                       305                   4              0     1   \n",
       "12                       234                   5              0     1   \n",
       "13                       148                   3              0     1   \n",
       "14                       137                   3              0     1   \n",
       "15                       143                   3              0     1   \n",
       "16                       160                   3              0     1   \n",
       "17                       255                   6              0     1   \n",
       "18                       160                   3              1     1   \n",
       "19                       262                   5              0     1   \n",
       "20                       282                   4              0     1   \n",
       "21                       147                   3              0     1   \n",
       "22                       304                   4              0     1   \n",
       "23                       139                   3              0     1   \n",
       "24                       158                   3              0     1   \n",
       "25                       242                   5              0     1   \n",
       "26                       239                   5              0     1   \n",
       "27                       135                   3              0     1   \n",
       "28                       128                   3              0     1   \n",
       "29                       132                   3              0     1   \n",
       "...                      ...                 ...            ...   ...   \n",
       "14969                    157                   3              0     1   \n",
       "14970                    225                   5              0     1   \n",
       "14971                    140                   3              0     1   \n",
       "14972                    310                   4              0     1   \n",
       "14973                    143                   3              0     1   \n",
       "14974                    153                   3              0     1   \n",
       "14975                    310                   4              0     1   \n",
       "14976                    136                   3              0     1   \n",
       "14977                    251                   6              0     1   \n",
       "14978                    144                   3              0     1   \n",
       "14979                    296                   4              0     1   \n",
       "14980                    238                   5              0     1   \n",
       "14981                    162                   4              0     1   \n",
       "14982                    137                   3              0     1   \n",
       "14983                    257                   5              0     1   \n",
       "14984                    148                   3              0     1   \n",
       "14985                    254                   5              0     1   \n",
       "14986                    247                   6              0     1   \n",
       "14987                    206                   4              0     1   \n",
       "14988                    145                   3              0     1   \n",
       "14989                    159                   3              1     1   \n",
       "14990                    228                   5              1     1   \n",
       "14991                    257                   4              0     1   \n",
       "14992                    155                   3              0     1   \n",
       "14993                    293                   6              0     1   \n",
       "14994                    151                   3              0     1   \n",
       "14995                    160                   3              0     1   \n",
       "14996                    143                   3              0     1   \n",
       "14997                    280                   4              0     1   \n",
       "14998                    158                   3              0     1   \n",
       "\n",
       "       promotion_last_5years  department  salary  \n",
       "0                          0       sales     low  \n",
       "1                          0       sales  medium  \n",
       "2                          0       sales  medium  \n",
       "3                          0       sales     low  \n",
       "4                          0       sales     low  \n",
       "5                          0       sales     low  \n",
       "6                          0       sales     low  \n",
       "7                          0       sales     low  \n",
       "8                          0       sales     low  \n",
       "9                          0       sales     low  \n",
       "10                         0       sales     low  \n",
       "11                         0       sales     low  \n",
       "12                         0       sales     low  \n",
       "13                         0       sales     low  \n",
       "14                         0       sales     low  \n",
       "15                         0       sales     low  \n",
       "16                         0       sales     low  \n",
       "17                         0       sales     low  \n",
       "18                         1       sales     low  \n",
       "19                         0       sales     low  \n",
       "20                         0       sales     low  \n",
       "21                         0       sales     low  \n",
       "22                         0       sales     low  \n",
       "23                         0       sales     low  \n",
       "24                         0       sales     low  \n",
       "25                         0       sales     low  \n",
       "26                         0       sales     low  \n",
       "27                         0       sales     low  \n",
       "28                         0  accounting     low  \n",
       "29                         0  accounting     low  \n",
       "...                      ...         ...     ...  \n",
       "14969                      0       sales  medium  \n",
       "14970                      0       sales  medium  \n",
       "14971                      0       sales  medium  \n",
       "14972                      0  accounting  medium  \n",
       "14973                      0  accounting  medium  \n",
       "14974                      0  accounting  medium  \n",
       "14975                      0          hr  medium  \n",
       "14976                      0          hr  medium  \n",
       "14977                      0          hr  medium  \n",
       "14978                      0          hr  medium  \n",
       "14979                      0   technical  medium  \n",
       "14980                      0   technical    high  \n",
       "14981                      0   technical     low  \n",
       "14982                      0   technical  medium  \n",
       "14983                      0   technical  medium  \n",
       "14984                      0   technical  medium  \n",
       "14985                      0   technical  medium  \n",
       "14986                      0   technical     low  \n",
       "14987                      0   technical     low  \n",
       "14988                      0   technical     low  \n",
       "14989                      0   technical     low  \n",
       "14990                      0     support     low  \n",
       "14991                      0     support     low  \n",
       "14992                      0     support     low  \n",
       "14993                      0     support     low  \n",
       "14994                      0     support     low  \n",
       "14995                      0     support     low  \n",
       "14996                      0     support     low  \n",
       "14997                      0     support     low  \n",
       "14998                      0     support     low  \n",
       "\n",
       "[14999 rows x 10 columns]"
      ]
     },
     "execution_count": 36,
     "metadata": {},
     "output_type": "execute_result"
    }
   ],
   "source": [
    "data"
   ]
  },
  {
   "cell_type": "code",
   "execution_count": 37,
   "metadata": {},
   "outputs": [
    {
     "data": {
      "text/html": [
       "<div>\n",
       "<style scoped>\n",
       "    .dataframe tbody tr th:only-of-type {\n",
       "        vertical-align: middle;\n",
       "    }\n",
       "\n",
       "    .dataframe tbody tr th {\n",
       "        vertical-align: top;\n",
       "    }\n",
       "\n",
       "    .dataframe thead th {\n",
       "        text-align: right;\n",
       "    }\n",
       "</style>\n",
       "<table border=\"1\" class=\"dataframe\">\n",
       "  <thead>\n",
       "    <tr style=\"text-align: right;\">\n",
       "      <th></th>\n",
       "      <th>satisfaction_level</th>\n",
       "      <th>last_evaluation</th>\n",
       "      <th>number_project</th>\n",
       "      <th>average_monthly_hours</th>\n",
       "      <th>time_spend_company</th>\n",
       "      <th>Work_accident</th>\n",
       "      <th>left</th>\n",
       "      <th>promotion_last_5years</th>\n",
       "    </tr>\n",
       "    <tr>\n",
       "      <th>department</th>\n",
       "      <th></th>\n",
       "      <th></th>\n",
       "      <th></th>\n",
       "      <th></th>\n",
       "      <th></th>\n",
       "      <th></th>\n",
       "      <th></th>\n",
       "      <th></th>\n",
       "    </tr>\n",
       "  </thead>\n",
       "  <tbody>\n",
       "    <tr>\n",
       "      <th>IT</th>\n",
       "      <td>0.618142</td>\n",
       "      <td>0.716830</td>\n",
       "      <td>3.816626</td>\n",
       "      <td>202.215974</td>\n",
       "      <td>3.468623</td>\n",
       "      <td>0.133659</td>\n",
       "      <td>0.222494</td>\n",
       "      <td>0.002445</td>\n",
       "    </tr>\n",
       "    <tr>\n",
       "      <th>RandD</th>\n",
       "      <td>0.619822</td>\n",
       "      <td>0.712122</td>\n",
       "      <td>3.853875</td>\n",
       "      <td>200.800508</td>\n",
       "      <td>3.367217</td>\n",
       "      <td>0.170267</td>\n",
       "      <td>0.153748</td>\n",
       "      <td>0.034307</td>\n",
       "    </tr>\n",
       "    <tr>\n",
       "      <th>accounting</th>\n",
       "      <td>0.582151</td>\n",
       "      <td>0.717718</td>\n",
       "      <td>3.825293</td>\n",
       "      <td>201.162973</td>\n",
       "      <td>3.522816</td>\n",
       "      <td>0.125163</td>\n",
       "      <td>0.265971</td>\n",
       "      <td>0.018253</td>\n",
       "    </tr>\n",
       "    <tr>\n",
       "      <th>hr</th>\n",
       "      <td>0.598809</td>\n",
       "      <td>0.708850</td>\n",
       "      <td>3.654939</td>\n",
       "      <td>198.684709</td>\n",
       "      <td>3.355886</td>\n",
       "      <td>0.120433</td>\n",
       "      <td>0.290934</td>\n",
       "      <td>0.020298</td>\n",
       "    </tr>\n",
       "    <tr>\n",
       "      <th>management</th>\n",
       "      <td>0.621349</td>\n",
       "      <td>0.724000</td>\n",
       "      <td>3.860317</td>\n",
       "      <td>201.249206</td>\n",
       "      <td>4.303175</td>\n",
       "      <td>0.163492</td>\n",
       "      <td>0.144444</td>\n",
       "      <td>0.109524</td>\n",
       "    </tr>\n",
       "    <tr>\n",
       "      <th>marketing</th>\n",
       "      <td>0.618601</td>\n",
       "      <td>0.715886</td>\n",
       "      <td>3.687646</td>\n",
       "      <td>199.385781</td>\n",
       "      <td>3.569930</td>\n",
       "      <td>0.160839</td>\n",
       "      <td>0.236597</td>\n",
       "      <td>0.050117</td>\n",
       "    </tr>\n",
       "    <tr>\n",
       "      <th>product_mng</th>\n",
       "      <td>0.619634</td>\n",
       "      <td>0.714756</td>\n",
       "      <td>3.807095</td>\n",
       "      <td>199.965632</td>\n",
       "      <td>3.475610</td>\n",
       "      <td>0.146341</td>\n",
       "      <td>0.219512</td>\n",
       "      <td>0.000000</td>\n",
       "    </tr>\n",
       "    <tr>\n",
       "      <th>sales</th>\n",
       "      <td>0.614447</td>\n",
       "      <td>0.709717</td>\n",
       "      <td>3.776329</td>\n",
       "      <td>200.911353</td>\n",
       "      <td>3.534058</td>\n",
       "      <td>0.141787</td>\n",
       "      <td>0.244928</td>\n",
       "      <td>0.024155</td>\n",
       "    </tr>\n",
       "    <tr>\n",
       "      <th>support</th>\n",
       "      <td>0.618300</td>\n",
       "      <td>0.723109</td>\n",
       "      <td>3.803948</td>\n",
       "      <td>200.758188</td>\n",
       "      <td>3.393001</td>\n",
       "      <td>0.154778</td>\n",
       "      <td>0.248991</td>\n",
       "      <td>0.008973</td>\n",
       "    </tr>\n",
       "    <tr>\n",
       "      <th>technical</th>\n",
       "      <td>0.607897</td>\n",
       "      <td>0.721099</td>\n",
       "      <td>3.877941</td>\n",
       "      <td>202.497426</td>\n",
       "      <td>3.411397</td>\n",
       "      <td>0.140074</td>\n",
       "      <td>0.256250</td>\n",
       "      <td>0.010294</td>\n",
       "    </tr>\n",
       "  </tbody>\n",
       "</table>\n",
       "</div>"
      ],
      "text/plain": [
       "             satisfaction_level  last_evaluation  number_project  \\\n",
       "department                                                         \n",
       "IT                     0.618142         0.716830        3.816626   \n",
       "RandD                  0.619822         0.712122        3.853875   \n",
       "accounting             0.582151         0.717718        3.825293   \n",
       "hr                     0.598809         0.708850        3.654939   \n",
       "management             0.621349         0.724000        3.860317   \n",
       "marketing              0.618601         0.715886        3.687646   \n",
       "product_mng            0.619634         0.714756        3.807095   \n",
       "sales                  0.614447         0.709717        3.776329   \n",
       "support                0.618300         0.723109        3.803948   \n",
       "technical              0.607897         0.721099        3.877941   \n",
       "\n",
       "             average_monthly_hours  time_spend_company  Work_accident  \\\n",
       "department                                                              \n",
       "IT                      202.215974            3.468623       0.133659   \n",
       "RandD                   200.800508            3.367217       0.170267   \n",
       "accounting              201.162973            3.522816       0.125163   \n",
       "hr                      198.684709            3.355886       0.120433   \n",
       "management              201.249206            4.303175       0.163492   \n",
       "marketing               199.385781            3.569930       0.160839   \n",
       "product_mng             199.965632            3.475610       0.146341   \n",
       "sales                   200.911353            3.534058       0.141787   \n",
       "support                 200.758188            3.393001       0.154778   \n",
       "technical               202.497426            3.411397       0.140074   \n",
       "\n",
       "                 left  promotion_last_5years  \n",
       "department                                    \n",
       "IT           0.222494               0.002445  \n",
       "RandD        0.153748               0.034307  \n",
       "accounting   0.265971               0.018253  \n",
       "hr           0.290934               0.020298  \n",
       "management   0.144444               0.109524  \n",
       "marketing    0.236597               0.050117  \n",
       "product_mng  0.219512               0.000000  \n",
       "sales        0.244928               0.024155  \n",
       "support      0.248991               0.008973  \n",
       "technical    0.256250               0.010294  "
      ]
     },
     "execution_count": 37,
     "metadata": {},
     "output_type": "execute_result"
    }
   ],
   "source": [
    "data.groupby(\"department\").mean()"
   ]
  },
  {
   "cell_type": "code",
   "execution_count": 38,
   "metadata": {},
   "outputs": [
    {
     "data": {
      "text/html": [
       "<div>\n",
       "<style scoped>\n",
       "    .dataframe tbody tr th:only-of-type {\n",
       "        vertical-align: middle;\n",
       "    }\n",
       "\n",
       "    .dataframe tbody tr th {\n",
       "        vertical-align: top;\n",
       "    }\n",
       "\n",
       "    .dataframe thead th {\n",
       "        text-align: right;\n",
       "    }\n",
       "</style>\n",
       "<table border=\"1\" class=\"dataframe\">\n",
       "  <thead>\n",
       "    <tr style=\"text-align: right;\">\n",
       "      <th></th>\n",
       "      <th>average_monthly_hours</th>\n",
       "    </tr>\n",
       "    <tr>\n",
       "      <th>department</th>\n",
       "      <th></th>\n",
       "    </tr>\n",
       "  </thead>\n",
       "  <tbody>\n",
       "    <tr>\n",
       "      <th>IT</th>\n",
       "      <td>202.215974</td>\n",
       "    </tr>\n",
       "    <tr>\n",
       "      <th>RandD</th>\n",
       "      <td>200.800508</td>\n",
       "    </tr>\n",
       "    <tr>\n",
       "      <th>accounting</th>\n",
       "      <td>201.162973</td>\n",
       "    </tr>\n",
       "    <tr>\n",
       "      <th>hr</th>\n",
       "      <td>198.684709</td>\n",
       "    </tr>\n",
       "    <tr>\n",
       "      <th>management</th>\n",
       "      <td>201.249206</td>\n",
       "    </tr>\n",
       "    <tr>\n",
       "      <th>marketing</th>\n",
       "      <td>199.385781</td>\n",
       "    </tr>\n",
       "    <tr>\n",
       "      <th>product_mng</th>\n",
       "      <td>199.965632</td>\n",
       "    </tr>\n",
       "    <tr>\n",
       "      <th>sales</th>\n",
       "      <td>200.911353</td>\n",
       "    </tr>\n",
       "    <tr>\n",
       "      <th>support</th>\n",
       "      <td>200.758188</td>\n",
       "    </tr>\n",
       "    <tr>\n",
       "      <th>technical</th>\n",
       "      <td>202.497426</td>\n",
       "    </tr>\n",
       "  </tbody>\n",
       "</table>\n",
       "</div>"
      ],
      "text/plain": [
       "             average_monthly_hours\n",
       "department                        \n",
       "IT                      202.215974\n",
       "RandD                   200.800508\n",
       "accounting              201.162973\n",
       "hr                      198.684709\n",
       "management              201.249206\n",
       "marketing               199.385781\n",
       "product_mng             199.965632\n",
       "sales                   200.911353\n",
       "support                 200.758188\n",
       "technical               202.497426"
      ]
     },
     "execution_count": 38,
     "metadata": {},
     "output_type": "execute_result"
    }
   ],
   "source": [
    "data[[\"average_monthly_hours\",\"department\"]].groupby(\"department\").mean()"
   ]
  },
  {
   "cell_type": "code",
   "execution_count": 39,
   "metadata": {},
   "outputs": [],
   "source": [
    "import seaborn as sns\n",
    "import matplotlib.pyplot as plt\n",
    "import numpy as np\n",
    "%matplotlib inline"
   ]
  },
  {
   "cell_type": "code",
   "execution_count": 40,
   "metadata": {},
   "outputs": [
    {
     "data": {
      "text/plain": [
       "<Figure size 1080x576 with 0 Axes>"
      ]
     },
     "execution_count": 40,
     "metadata": {},
     "output_type": "execute_result"
    },
    {
     "data": {
      "image/png": "[encoded data removed]",
      "text/plain": [
       "<Figure size 432x288 with 1 Axes>"
      ]
     },
     "metadata": {},
     "output_type": "display_data"
    },
    {
     "data": {
      "text/plain": [
       "<Figure size 1080x576 with 0 Axes>"
      ]
     },
     "metadata": {},
     "output_type": "display_data"
    }
   ],
   "source": [
    "plt.title(\"Salary\")\n",
    "plt.xlabel(\"salary\")\n",
    "plt.ylabel(\"number\")\n",
    "\n",
    "sns.set_style(style=\"darkgrid\")#配置样式\n",
    "sns.set_context(context=\"poster\",font_scale=1.1)#配置字体\n",
    "sns.set_palette(sns.color_palette(\"muted\", n_colors=7))#配置色板\n",
    "sns.countplot(x=\"salary\",hue='department',data=data)\n",
    "plt.figure(figsize=(15,8))\n",
    "# plt.bar(np.arange(len(data.salary.value_counts())),data.salary.value_counts())\n"
   ]
  },
  {
   "cell_type": "code",
   "execution_count": 41,
   "metadata": {},
   "outputs": [
    {
     "data": {
      "image/png": "[encoded data removed]",
      "text/plain": [
       "<Figure size 2160x504 with 1 Axes>"
      ]
     },
     "metadata": {},
     "output_type": "display_data"
    }
   ],
   "source": [
    "labels=data.department.value_counts().index\n",
    "plt.figure(figsize=(30,7))\n",
    "plt.pie(data.department.value_counts(normalize=True),labels=labels,autopct=\"%1.1f%%\")\n",
    "plt.axis(\"equal\")\n",
    "plt.show()"
   ]
  },
  {
   "cell_type": "code",
   "execution_count": 42,
   "metadata": {},
   "outputs": [
    {
     "data": {
      "text/html": [
       "<div>\n",
       "<style scoped>\n",
       "    .dataframe tbody tr th:only-of-type {\n",
       "        vertical-align: middle;\n",
       "    }\n",
       "\n",
       "    .dataframe tbody tr th {\n",
       "        vertical-align: top;\n",
       "    }\n",
       "\n",
       "    .dataframe thead th {\n",
       "        text-align: right;\n",
       "    }\n",
       "</style>\n",
       "<table border=\"1\" class=\"dataframe\">\n",
       "  <thead>\n",
       "    <tr style=\"text-align: right;\">\n",
       "      <th></th>\n",
       "      <th>satisfaction_level</th>\n",
       "      <th>last_evaluation</th>\n",
       "      <th>number_project</th>\n",
       "      <th>average_monthly_hours</th>\n",
       "      <th>time_spend_company</th>\n",
       "      <th>Work_accident</th>\n",
       "      <th>left</th>\n",
       "      <th>promotion_last_5years</th>\n",
       "      <th>department</th>\n",
       "      <th>salary</th>\n",
       "    </tr>\n",
       "  </thead>\n",
       "  <tbody>\n",
       "    <tr>\n",
       "      <th>4845</th>\n",
       "      <td>0.54</td>\n",
       "      <td>0.52</td>\n",
       "      <td>5</td>\n",
       "      <td>155</td>\n",
       "      <td>3</td>\n",
       "      <td>0</td>\n",
       "      <td>0</td>\n",
       "      <td>0</td>\n",
       "      <td>technical</td>\n",
       "      <td>low</td>\n",
       "    </tr>\n",
       "    <tr>\n",
       "      <th>2247</th>\n",
       "      <td>0.78</td>\n",
       "      <td>0.80</td>\n",
       "      <td>4</td>\n",
       "      <td>194</td>\n",
       "      <td>2</td>\n",
       "      <td>1</td>\n",
       "      <td>0</td>\n",
       "      <td>0</td>\n",
       "      <td>technical</td>\n",
       "      <td>medium</td>\n",
       "    </tr>\n",
       "    <tr>\n",
       "      <th>10045</th>\n",
       "      <td>0.78</td>\n",
       "      <td>0.63</td>\n",
       "      <td>4</td>\n",
       "      <td>158</td>\n",
       "      <td>3</td>\n",
       "      <td>0</td>\n",
       "      <td>0</td>\n",
       "      <td>0</td>\n",
       "      <td>technical</td>\n",
       "      <td>medium</td>\n",
       "    </tr>\n",
       "    <tr>\n",
       "      <th>10098</th>\n",
       "      <td>0.73</td>\n",
       "      <td>0.83</td>\n",
       "      <td>5</td>\n",
       "      <td>266</td>\n",
       "      <td>5</td>\n",
       "      <td>0</td>\n",
       "      <td>0</td>\n",
       "      <td>0</td>\n",
       "      <td>sales</td>\n",
       "      <td>low</td>\n",
       "    </tr>\n",
       "    <tr>\n",
       "      <th>198</th>\n",
       "      <td>0.10</td>\n",
       "      <td>0.89</td>\n",
       "      <td>7</td>\n",
       "      <td>285</td>\n",
       "      <td>4</td>\n",
       "      <td>0</td>\n",
       "      <td>1</td>\n",
       "      <td>0</td>\n",
       "      <td>technical</td>\n",
       "      <td>low</td>\n",
       "    </tr>\n",
       "  </tbody>\n",
       "</table>\n",
       "</div>"
      ],
      "text/plain": [
       "       satisfaction_level  last_evaluation  number_project  \\\n",
       "4845                 0.54             0.52               5   \n",
       "2247                 0.78             0.80               4   \n",
       "10045                0.78             0.63               4   \n",
       "10098                0.73             0.83               5   \n",
       "198                  0.10             0.89               7   \n",
       "\n",
       "       average_monthly_hours  time_spend_company  Work_accident  left  \\\n",
       "4845                     155                   3              0     0   \n",
       "2247                     194                   2              1     0   \n",
       "10045                    158                   3              0     0   \n",
       "10098                    266                   5              0     0   \n",
       "198                      285                   4              0     1   \n",
       "\n",
       "       promotion_last_5years department  salary  \n",
       "4845                       0  technical     low  \n",
       "2247                       0  technical  medium  \n",
       "10045                      0  technical  medium  \n",
       "10098                      0      sales     low  \n",
       "198                        0  technical     low  "
      ]
     },
     "execution_count": 42,
     "metadata": {},
     "output_type": "execute_result"
    }
   ],
   "source": [
    "data.sample(5)"
   ]
  },
  {
   "cell_type": "code",
   "execution_count": 43,
   "metadata": {},
   "outputs": [],
   "source": [
    "import sklearn.preprocessing as sp"
   ]
  },
  {
   "cell_type": "code",
   "execution_count": 44,
   "metadata": {},
   "outputs": [
    {
     "name": "stderr",
     "output_type": "stream",
     "text": [
      "D:\\anconda\\lib\\site-packages\\sklearn\\utils\\validation.py:475: DataConversionWarning: Data with input dtype int32 was converted to float64 by the scale function.\n",
      "  warnings.warn(msg, DataConversionWarning)\n"
     ]
    },
    {
     "data": {
      "text/plain": [
       "array([-1.62697843, -1.41004798, -1.19311752, -0.97618706, -0.7592566 ,\n",
       "       -0.54232614, -0.32539569, -0.10846523,  0.10846523,  0.32539569,\n",
       "        0.54232614,  0.7592566 ,  0.97618706,  1.19311752,  1.41004798,\n",
       "        1.62697843])"
      ]
     },
     "execution_count": 44,
     "metadata": {},
     "output_type": "execute_result"
    }
   ],
   "source": [
    "data=np.array(np.arange(16))\n",
    "sp.scale(data)"
   ]
  },
  {
   "cell_type": "code",
   "execution_count": 45,
   "metadata": {},
   "outputs": [],
   "source": [
    "import numpy as np\n",
    "import scipy.stats as ss\n",
    "norm_dist=ss.norm.rvs(size=20)"
   ]
  },
  {
   "cell_type": "code",
   "execution_count": 46,
   "metadata": {},
   "outputs": [
    {
     "data": {
      "text/plain": [
       "NormaltestResult(statistic=2.3901214815271845, pvalue=0.3026855682712163)"
      ]
     },
     "execution_count": 46,
     "metadata": {},
     "output_type": "execute_result"
    }
   ],
   "source": [
    "ss.normaltest(norm_dist)"
   ]
  },
  {
   "cell_type": "code",
   "execution_count": 47,
   "metadata": {},
   "outputs": [
    {
     "data": {
      "text/plain": [
       "(126.08080808080808, 2.9521414005078985e-29, 1, array([[55., 55.],\n",
       "        [45., 45.]]))"
      ]
     },
     "execution_count": 47,
     "metadata": {},
     "output_type": "execute_result"
    }
   ],
   "source": [
    "ss.chi2_contingency([[15,95],[85,5]])"
   ]
  },
  {
   "cell_type": "code",
   "execution_count": 48,
   "metadata": {},
   "outputs": [
    {
     "data": {
      "text/plain": [
       "Ttest_indResult(statistic=0.9750710808631383, pvalue=0.33787438191965913)"
      ]
     },
     "execution_count": 48,
     "metadata": {},
     "output_type": "execute_result"
    }
   ],
   "source": [
    "ss.ttest_ind(ss.norm.rvs(size=10),ss.norm.rvs(size=20))"
   ]
  },
  {
   "cell_type": "code",
   "execution_count": 49,
   "metadata": {},
   "outputs": [],
   "source": [
    "import pandas as pd\n",
    "s1=pd.Series([0.1,0.2,1.1,2.4,1.3,0.3,0.5])\n",
    "s2=pd.Series([0.5,0.4,1.2,2.5,1.1,0.7,0.1])"
   ]
  },
  {
   "cell_type": "code",
   "execution_count": 50,
   "metadata": {},
   "outputs": [
    {
     "data": {
      "text/plain": [
       "0.7142857142857144"
      ]
     },
     "execution_count": 50,
     "metadata": {},
     "output_type": "execute_result"
    }
   ],
   "source": [
    "s1.corr(s2,method=\"spearman\")"
   ]
  },
  {
   "cell_type": "code",
   "execution_count": 51,
   "metadata": {},
   "outputs": [
    {
     "data": {
      "text/plain": [
       "0.9333729600465923"
      ]
     },
     "execution_count": 51,
     "metadata": {},
     "output_type": "execute_result"
    }
   ],
   "source": [
    "s2.corr(s1)"
   ]
  },
  {
   "cell_type": "code",
   "execution_count": 52,
   "metadata": {},
   "outputs": [],
   "source": [
    "df=pd.DataFrame(np.array([s1,s2])).T"
   ]
  },
  {
   "cell_type": "code",
   "execution_count": 53,
   "metadata": {},
   "outputs": [
    {
     "data": {
      "text/html": [
       "<div>\n",
       "<style scoped>\n",
       "    .dataframe tbody tr th:only-of-type {\n",
       "        vertical-align: middle;\n",
       "    }\n",
       "\n",
       "    .dataframe tbody tr th {\n",
       "        vertical-align: top;\n",
       "    }\n",
       "\n",
       "    .dataframe thead th {\n",
       "        text-align: right;\n",
       "    }\n",
       "</style>\n",
       "<table border=\"1\" class=\"dataframe\">\n",
       "  <thead>\n",
       "    <tr style=\"text-align: right;\">\n",
       "      <th></th>\n",
       "      <th>0</th>\n",
       "      <th>1</th>\n",
       "    </tr>\n",
       "  </thead>\n",
       "  <tbody>\n",
       "    <tr>\n",
       "      <th>0</th>\n",
       "      <td>1.000000</td>\n",
       "      <td>0.714286</td>\n",
       "    </tr>\n",
       "    <tr>\n",
       "      <th>1</th>\n",
       "      <td>0.714286</td>\n",
       "      <td>1.000000</td>\n",
       "    </tr>\n",
       "  </tbody>\n",
       "</table>\n",
       "</div>"
      ],
      "text/plain": [
       "          0         1\n",
       "0  1.000000  0.714286\n",
       "1  0.714286  1.000000"
      ]
     },
     "execution_count": 53,
     "metadata": {},
     "output_type": "execute_result"
    }
   ],
   "source": [
    "df.corr(method=\"spearman\")"
   ]
  },
  {
   "cell_type": "code",
   "execution_count": 54,
   "metadata": {},
   "outputs": [
    {
     "data": {
      "text/html": [
       "<div>\n",
       "<style scoped>\n",
       "    .dataframe tbody tr th:only-of-type {\n",
       "        vertical-align: middle;\n",
       "    }\n",
       "\n",
       "    .dataframe tbody tr th {\n",
       "        vertical-align: top;\n",
       "    }\n",
       "\n",
       "    .dataframe thead th {\n",
       "        text-align: right;\n",
       "    }\n",
       "</style>\n",
       "<table border=\"1\" class=\"dataframe\">\n",
       "  <thead>\n",
       "    <tr style=\"text-align: right;\">\n",
       "      <th></th>\n",
       "      <th>0</th>\n",
       "      <th>1</th>\n",
       "    </tr>\n",
       "  </thead>\n",
       "  <tbody>\n",
       "    <tr>\n",
       "      <th>0</th>\n",
       "      <td>0.1</td>\n",
       "      <td>0.5</td>\n",
       "    </tr>\n",
       "    <tr>\n",
       "      <th>1</th>\n",
       "      <td>0.2</td>\n",
       "      <td>0.4</td>\n",
       "    </tr>\n",
       "    <tr>\n",
       "      <th>2</th>\n",
       "      <td>1.1</td>\n",
       "      <td>1.2</td>\n",
       "    </tr>\n",
       "    <tr>\n",
       "      <th>3</th>\n",
       "      <td>2.4</td>\n",
       "      <td>2.5</td>\n",
       "    </tr>\n",
       "    <tr>\n",
       "      <th>4</th>\n",
       "      <td>1.3</td>\n",
       "      <td>1.1</td>\n",
       "    </tr>\n",
       "    <tr>\n",
       "      <th>5</th>\n",
       "      <td>0.3</td>\n",
       "      <td>0.7</td>\n",
       "    </tr>\n",
       "    <tr>\n",
       "      <th>6</th>\n",
       "      <td>0.5</td>\n",
       "      <td>0.1</td>\n",
       "    </tr>\n",
       "  </tbody>\n",
       "</table>\n",
       "</div>"
      ],
      "text/plain": [
       "     0    1\n",
       "0  0.1  0.5\n",
       "1  0.2  0.4\n",
       "2  1.1  1.2\n",
       "3  2.4  2.5\n",
       "4  1.3  1.1\n",
       "5  0.3  0.7\n",
       "6  0.5  0.1"
      ]
     },
     "execution_count": 54,
     "metadata": {},
     "output_type": "execute_result"
    }
   ],
   "source": [
    "df"
   ]
  },
  {
   "cell_type": "code",
   "execution_count": 55,
   "metadata": {},
   "outputs": [],
   "source": [
    "x=np.array([0.5,0.6,0.8,1.1,1.4]).reshape(-1,1)\n",
    "y=np.array([5.0,5.5,6.0,6.8,7.0]).reshape(-1,1)"
   ]
  },
  {
   "cell_type": "code",
   "execution_count": null,
   "metadata": {},
   "outputs": [],
   "source": []
  },
  {
   "cell_type": "code",
   "execution_count": 56,
   "metadata": {},
   "outputs": [],
   "source": [
    "from  sklearn.linear_model import LinearRegression"
   ]
  },
  {
   "cell_type": "code",
   "execution_count": 57,
   "metadata": {},
   "outputs": [],
   "source": [
    "\n",
    "reg=LinearRegression()"
   ]
  },
  {
   "cell_type": "code",
   "execution_count": 58,
   "metadata": {},
   "outputs": [],
   "source": [
    "res=reg.fit(x,y)"
   ]
  },
  {
   "cell_type": "code",
   "execution_count": 59,
   "metadata": {},
   "outputs": [
    {
     "data": {
      "text/plain": [
       "array([[2.2189781]])"
      ]
     },
     "execution_count": 59,
     "metadata": {},
     "output_type": "execute_result"
    }
   ],
   "source": [
    "res.coef_"
   ]
  },
  {
   "cell_type": "code",
   "execution_count": 60,
   "metadata": {},
   "outputs": [
    {
     "data": {
      "text/plain": [
       "array([4.10729927])"
      ]
     },
     "execution_count": 60,
     "metadata": {},
     "output_type": "execute_result"
    }
   ],
   "source": [
    "res.intercept_"
   ]
  },
  {
   "cell_type": "code",
   "execution_count": 61,
   "metadata": {},
   "outputs": [
    {
     "data": {
      "text/plain": [
       "array([ 0,  1,  2,  3,  4,  5,  6,  7,  8,  9, 10, 11, 12, 13, 14, 15])"
      ]
     },
     "execution_count": 61,
     "metadata": {},
     "output_type": "execute_result"
    }
   ],
   "source": [
    "data"
   ]
  },
  {
   "cell_type": "code",
   "execution_count": 62,
   "metadata": {},
   "outputs": [],
   "source": [
    "columns=[\"x\",\"y\",\"z\"]\n",
    "data=[\n",
    "    [2.5,2.4,2.0],\n",
    "    [0.5,0.7,5.0],\n",
    "    [2.2,2.9,3.2],\n",
    "    [1.9,2.2,2.5],\n",
    "    [3.1,3.0,3.7]\n",
    "]\n",
    "data=pd.DataFrame(data=data,columns=columns)"
   ]
  },
  {
   "cell_type": "code",
   "execution_count": 63,
   "metadata": {},
   "outputs": [
    {
     "data": {
      "text/html": [
       "<div>\n",
       "<style scoped>\n",
       "    .dataframe tbody tr th:only-of-type {\n",
       "        vertical-align: middle;\n",
       "    }\n",
       "\n",
       "    .dataframe tbody tr th {\n",
       "        vertical-align: top;\n",
       "    }\n",
       "\n",
       "    .dataframe thead th {\n",
       "        text-align: right;\n",
       "    }\n",
       "</style>\n",
       "<table border=\"1\" class=\"dataframe\">\n",
       "  <thead>\n",
       "    <tr style=\"text-align: right;\">\n",
       "      <th></th>\n",
       "      <th>x</th>\n",
       "      <th>y</th>\n",
       "      <th>z</th>\n",
       "    </tr>\n",
       "  </thead>\n",
       "  <tbody>\n",
       "    <tr>\n",
       "      <th>x</th>\n",
       "      <td>1.000000</td>\n",
       "      <td>0.939641</td>\n",
       "      <td>-0.599618</td>\n",
       "    </tr>\n",
       "    <tr>\n",
       "      <th>y</th>\n",
       "      <td>0.939641</td>\n",
       "      <td>1.000000</td>\n",
       "      <td>-0.596132</td>\n",
       "    </tr>\n",
       "    <tr>\n",
       "      <th>z</th>\n",
       "      <td>-0.599618</td>\n",
       "      <td>-0.596132</td>\n",
       "      <td>1.000000</td>\n",
       "    </tr>\n",
       "  </tbody>\n",
       "</table>\n",
       "</div>"
      ],
      "text/plain": [
       "          x         y         z\n",
       "x  1.000000  0.939641 -0.599618\n",
       "y  0.939641  1.000000 -0.596132\n",
       "z -0.599618 -0.596132  1.000000"
      ]
     },
     "execution_count": 63,
     "metadata": {},
     "output_type": "execute_result"
    }
   ],
   "source": [
    "data.corr()"
   ]
  },
  {
   "cell_type": "code",
   "execution_count": 64,
   "metadata": {},
   "outputs": [],
   "source": [
    "import numpy as np\n",
    "import scipy.stats as ss\n",
    "norm_dist=ss.norm.rvs(size=20)"
   ]
  },
  {
   "cell_type": "code",
   "execution_count": 65,
   "metadata": {},
   "outputs": [
    {
     "data": {
      "text/plain": [
       "NormaltestResult(statistic=1.68295850966678, pvalue=0.4310723856512323)"
      ]
     },
     "execution_count": 65,
     "metadata": {},
     "output_type": "execute_result"
    }
   ],
   "source": [
    "ss.normaltest(norm_dist)"
   ]
  },
  {
   "cell_type": "code",
   "execution_count": 66,
   "metadata": {},
   "outputs": [
    {
     "data": {
      "text/plain": [
       "array([ 1.45941789,  0.39674471,  0.36159852,  1.23722288,  0.01912999,\n",
       "        0.89780672,  0.45826815,  0.96730944,  0.30244062, -0.06008   ,\n",
       "       -0.79394672,  1.49856636,  0.62191238,  1.48264484,  0.85708656,\n",
       "       -0.37941627,  0.53694413, -0.37856098, -0.74288873, -0.7793586 ])"
      ]
     },
     "execution_count": 66,
     "metadata": {},
     "output_type": "execute_result"
    }
   ],
   "source": [
    "norm_dist"
   ]
  },
  {
   "cell_type": "code",
   "execution_count": 67,
   "metadata": {},
   "outputs": [],
   "source": [
    "data=np.array([np.array([2.5,0.5,2.2,1.9,3.1,2.3,2,1,1.5,1.5]),\n",
    "                   np.array([2.4,0.7,2.9,2.2,3,2.7,1.6,1.1,1.6,0.9])]).T"
   ]
  },
  {
   "cell_type": "code",
   "execution_count": 68,
   "metadata": {},
   "outputs": [
    {
     "data": {
      "text/plain": [
       "array([[2.5, 2.4],\n",
       "       [0.5, 0.7],\n",
       "       [2.2, 2.9],\n",
       "       [1.9, 2.2],\n",
       "       [3.1, 3. ],\n",
       "       [2.3, 2.7],\n",
       "       [2. , 1.6],\n",
       "       [1. , 1.1],\n",
       "       [1.5, 1.6],\n",
       "       [1.5, 0.9]])"
      ]
     },
     "execution_count": 68,
     "metadata": {},
     "output_type": "execute_result"
    }
   ],
   "source": [
    "data"
   ]
  },
  {
   "cell_type": "code",
   "execution_count": 69,
   "metadata": {},
   "outputs": [
    {
     "name": "stdout",
     "output_type": "stream",
     "text": [
      "(array([[-0.79719813],\n",
      "       [ 1.80013324],\n",
      "       [-0.97456799],\n",
      "       [-0.25079417],\n",
      "       [-1.64398332],\n",
      "       [-0.89041293],\n",
      "       [ 0.13374212],\n",
      "       [ 1.16957423],\n",
      "       [ 0.4639199 ],\n",
      "       [ 0.98958705]]), array([0.06772262+0.j, 1.21827738+0.j]))\n"
     ]
    }
   ],
   "source": [
    "import pandas as pd\n",
    "import numpy as np\n",
    "def my_PCA(data,n_components=10000): # 默认维度很高，即不选择的话全选\n",
    "    mean_valus=np.mean(data,axis=0)  # 计算均值，axis=0，以列来计算\n",
    "    mid=data-mean_valus              # 计算mid\n",
    "    cov_mat=np.cov(mid,rowvar=False) # 计算mid的协方差，rowvar=Flase指定列进行协方差的计算\n",
    "    from scipy import linalg         # 引入scipy的包，用作协方差矩阵计算的用途\n",
    "    eig_values,eig_vects=linalg.eig(np.mat(cov_mat))\n",
    "    eig_values_index=np.argsort(eig_values)  #对特征值排序并得到其索引，即下标\n",
    "    eig_values_index=eig_values_index[:-(n_components+1):-1]  # 取出最大的值对应的特征值\n",
    "    eig_vects=eig_vects[:,eig_values_index]  # 取出对应的特征向量\n",
    "    low_dim_mat=np.dot(mid,eig_vects)\n",
    "    return  low_dim_mat,eig_values\n",
    " \n",
    "data=np.array([np.array([2.5,0.5,2.2,1.9,3.1,2.3,2,1,1.5,1.5]),\n",
    "               np.array([2.4,0.7,2.9,2.2,3,2.7,1.6,1.1,1.6,0.9])]).T\n",
    "print(my_PCA(data,n_components=1))"
   ]
  },
  {
   "cell_type": "markdown",
   "metadata": {},
   "source": [
    "# 交叉分析"
   ]
  },
  {
   "cell_type": "code",
   "execution_count": 70,
   "metadata": {},
   "outputs": [
    {
     "name": "stderr",
     "output_type": "stream",
     "text": [
      "D:\\anconda\\lib\\site-packages\\ipykernel_launcher.py:10: UserWarning: Boolean Series key will be reindexed to match DataFrame index.\n",
      "  # Remove the CWD from sys.path while we load stuff.\n"
     ]
    },
    {
     "data": {
      "text/plain": [
       "<matplotlib.axes._subplots.AxesSubplot at 0xc19e0b8>"
      ]
     },
     "execution_count": 70,
     "metadata": {},
     "output_type": "execute_result"
    },
    {
     "data": {
      "image/png": "[encoded data removed]",
      "text/plain": [
       "<Figure size 432x288 with 2 Axes>"
      ]
     },
     "metadata": {},
     "output_type": "display_data"
    }
   ],
   "source": [
    "import pandas as pd\n",
    "import numpy as np\n",
    "import scipy.stats as ss\n",
    "import matplotlib.pyplot as plt\n",
    "import seaborn as sns \n",
    "%matplotlib inline\n",
    "data = pd.read_csv(\"./HR.csv\")\n",
    "data=data.dropna()\n",
    "\n",
    "data = data[data[\"last_evaluation\"]<=1][data[\"salary\"]!=\"nme\"][data[\"department\"]!=\"sale\"]\n",
    "dp_indices=data.groupby(by=\"department\").indices\n",
    "sales_values=data.left.iloc[dp_indices[\"sales\"]].values\n",
    "technical_values=data.left.iloc[dp_indices[\"technical\"]].values\n",
    "# print(ss.ttest_ind(sales_values,technical_values)[1])\n",
    "dp_keys=list(dp_indices.keys())\n",
    "dp_t_mat=np.zeros([len(dp_keys),len(dp_keys)])\n",
    "for i in range(len(dp_keys)):\n",
    "    for j in range(len(dp_keys)):\n",
    "        p_value=ss.ttest_ind(data.left.iloc[dp_indices[dp_keys[i]]].values,data.left.iloc[dp_indices[dp_keys[j]]].values)[1]\n",
    "        if p_value <= 0.05:\n",
    "            dp_t_mat[i][j]=-1\n",
    "            \n",
    "        else:\n",
    "            dp_t_mat[i][j]=p_value\n",
    "sns.heatmap(dp_t_mat,xticklabels=dp_keys,yticklabels=dp_keys)"
   ]
  },
  {
   "cell_type": "code",
   "execution_count": 71,
   "metadata": {},
   "outputs": [],
   "source": [
    "piv_tb=pd.pivot_table(data,values='left',index=[\"promotion_last_5years\",\"salary\"],columns=[\"Work_accident\"],aggfunc=\"mean\")"
   ]
  },
  {
   "cell_type": "code",
   "execution_count": 72,
   "metadata": {},
   "outputs": [
    {
     "name": "stdout",
     "output_type": "stream",
     "text": [
      "Work_accident                        0         1\n",
      "promotion_last_5years salary                    \n",
      "0                     high    0.082996  0.000000\n",
      "                      low     0.331728  0.090020\n",
      "                      medium  0.230683  0.081655\n",
      "1                     high    0.000000  0.000000\n",
      "                      low     0.229167  0.166667\n",
      "                      medium  0.028986  0.023256\n"
     ]
    }
   ],
   "source": [
    "print(piv_tb)"
   ]
  },
  {
   "cell_type": "code",
   "execution_count": 73,
   "metadata": {},
   "outputs": [
    {
     "data": {
      "text/plain": [
       "<matplotlib.axes._subplots.AxesSubplot at 0xc1989e8>"
      ]
     },
     "execution_count": 73,
     "metadata": {},
     "output_type": "execute_result"
    },
    {
     "data": {
      "image/png": "[encoded data removed]",
      "text/plain": [
       "<Figure size 432x288 with 2 Axes>"
      ]
     },
     "metadata": {},
     "output_type": "display_data"
    }
   ],
   "source": [
    "\n",
    "sns.set_context(font_scale=1.5)\n",
    "sns.heatmap(piv_tb,vmin=0,vmax=1,cmap=sns.color_palette(\"Reds\",n_colors=1024))"
   ]
  },
  {
   "cell_type": "code",
   "execution_count": 74,
   "metadata": {},
   "outputs": [
    {
     "data": {
      "image/png": "[encoded data removed]",
      "text/plain": [
       "<Figure size 1440x576 with 1 Axes>"
      ]
     },
     "metadata": {},
     "output_type": "display_data"
    }
   ],
   "source": [
    "plt.figure(figsize=(20,8))\n",
    "sns.barplot(data=data,x=\"salary\",y=\"left\",hue=\"department\")\n",
    "# 显示图表\n",
    "plt.show()"
   ]
  },
  {
   "cell_type": "code",
   "execution_count": null,
   "metadata": {},
   "outputs": [],
   "source": [
    "sl_s=data.satisfaction_level\n",
    "sns.barplot(list(range(len(sl_s))),sl_s.sort_values())"
   ]
  },
  {
   "cell_type": "code",
   "execution_count": null,
   "metadata": {},
   "outputs": [],
   "source": [
    "sns.heatmap(data.corr(),vmin=-1,vmax=1,cmap=sns.color_palette(\"RdBu\",n_colors=128))"
   ]
  },
  {
   "cell_type": "code",
   "execution_count": 78,
   "metadata": {},
   "outputs": [],
   "source": [
    "data.head()\n",
    "data=data.dropna()"
   ]
  },
  {
   "cell_type": "code",
   "execution_count": 81,
   "metadata": {},
   "outputs": [],
   "source": [
    "from sklearn.decomposition import PCA\n",
    "import seaborn as sns"
   ]
  },
  {
   "cell_type": "code",
   "execution_count": 83,
   "metadata": {},
   "outputs": [
    {
     "data": {
      "text/plain": [
       "<matplotlib.axes._subplots.AxesSubplot at 0xe776748>"
      ]
     },
     "execution_count": 83,
     "metadata": {},
     "output_type": "execute_result"
    },
    {
     "data": {
      "image/png": "[encoded data removed]",
      "text/plain": [
       "<Figure size 432x288 with 2 Axes>"
      ]
     },
     "metadata": {},
     "output_type": "display_data"
    }
   ],
   "source": [
    "mypac=PCA(n_components=7)\n",
    "lower_mat=mypac.fit_transform(data.drop(labels=[\"salary\",\"department\",\"left\"],axis=1))\n",
    "# print(lower_mat)\n",
    "# print(mypac.explained_variance_ratio_)\n",
    "sns.heatmap(pd.DataFrame(lower_mat).corr(),vmin=-1,vmax=1)"
   ]
  },
  {
   "cell_type": "markdown",
   "metadata": {},
   "source": [
    "# 特征工程"
   ]
  },
  {
   "cell_type": "markdown",
   "metadata": {},
   "source": [
    "## 特征降维PCA"
   ]
  },
  {
   "cell_type": "markdown",
   "metadata": {},
   "source": [
    "## 特征衍生"
   ]
  },
  {
   "cell_type": "markdown",
   "metadata": {},
   "source": [
    "- 加减乘除  \n",
    "- 求导与高阶求导  \n",
    "- 人工归纳"
   ]
  },
  {
   "cell_type": "code",
   "execution_count": 22,
   "metadata": {},
   "outputs": [],
   "source": [
    "import numpy as np\n",
    "import pandas as pd\n",
    "from sklearn.model_selection import train_test_split\n",
    "from sklearn.preprocessing import MinMaxScaler,StandardScaler\n",
    "from sklearn.preprocessing import LabelEncoder,OneHotEncoder\n",
    "from sklearn.preprocessing import Normalizer\n",
    "from sklearn.discriminant_analysis import LinearDiscriminantAnalysis\n",
    "from sklearn.decomposition import PCA"
   ]
  },
  {
   "cell_type": "code",
   "execution_count": 23,
   "metadata": {},
   "outputs": [
    {
     "name": "stderr",
     "output_type": "stream",
     "text": [
      "D:\\anconda\\lib\\site-packages\\sklearn\\utils\\validation.py:475: DataConversionWarning: Data with input dtype int64 was converted to float64 by MinMaxScaler.\n",
      "  warnings.warn(msg, DataConversionWarning)\n"
     ]
    }
   ],
   "source": [
    "\n",
    "# sl:satisfaction_level------Flase MinMaxScaler Ture StandardScaler\n",
    "# le:last_evaluation---------Flase MinMaxScaler Ture StandardScaler\n",
    "# npr:number_project---------Flase MinMaxScaler Ture StandardScaler\n",
    "# amh:average_monthly_hours--Flase MinMaxScaler Ture StandardScaler\n",
    "# tsc:time_spend_company-----Flase MinMaxScaler Ture StandardScaler\n",
    "# wc:Work_accident-----------Flase MinMaxScaler Ture StandardScaler\n",
    "# pl5:promotion_last_5years--Flase MinMaxScaler Ture StandardScaler\n",
    "# dp:department--------------Flase LabelEncoder Ture OneHotEncoder\n",
    "# sal:salary-----------------Flase LabelEncoder Ture OneHotEncoder\n",
    "def hr_preprocessing(sl=False,le=False,npr=False,amh=False,tsc=False,wc=False,pl5=False,dp=True,sal=False,\n",
    "                    lower_d=False,ld_n=1):\n",
    "    \n",
    "    \n",
    "    # 0.数据读取\n",
    "    df=pd.read_csv(\"./HR.csv\")\n",
    "\n",
    "    # 1.清洗数据\n",
    "    df=df.dropna(subset=[\"satisfaction_level\",\"last_evaluation\"])\n",
    "    df=df[df[\"satisfaction_level\"]<=1][df[\"salary\"] != \"nme\"]\n",
    "    \n",
    "    # 2.以近期是否离职作为标签\n",
    "    \n",
    "    label=df[\"left\"]\n",
    "    df=df.drop(\"left\",axis=1)\n",
    "    \n",
    "    # 3.特征选择\n",
    "    \n",
    "    # 皮尔逊相关系数分析选择相关系数\n",
    "    \n",
    "    # 4.特征处理\n",
    "   \n",
    "    #4.1 满意度等数据的归一化或者标准化 \n",
    "    scaler_list=[sl,le,npr,amh,tsc,wc,pl5]\n",
    "    column_list1=[\"satisfaction_level\",\"last_evaluation\",\"number_project\",\\\n",
    "                 \"average_monthly_hours\",\"time_spend_company\",\"Work_accident\",\\\n",
    "                 \"promotion_last_5years\"]\n",
    "    for i in range(len(scaler_list)):\n",
    "        if not scaler_list[i]:\n",
    "            #数据归一化\n",
    "            df[column_list1[i]]=MinMaxScaler().fit_transform(df[column_list1[i]].values.reshape(-1,1)).reshape(1,-1)[0]\n",
    "        else:\n",
    "            #数据标准化\n",
    "            df[column_list1[i]]=StandardScaler().fit_transform(df[column_list1[i]].values.reshape(-1,1)).reshape(1,-1)[0]\n",
    "    \n",
    "    #4.2 部门、工资水平的离散化\n",
    "    encoder_list=[dp,sal]\n",
    "    column_list2=[\"department\",\"salary\"]\n",
    "    for i in range(len(encoder_list)):\n",
    "        if not encoder_list[i]:\n",
    "            # 标签\n",
    "            if column_list2[i]==\"salary\":\n",
    "                df[column_list2[i]]=[map_salary(s) for s in df[\"salary\"].values]\n",
    "            df[column_list2[i]]=LabelEncoder().fit_transform(df[column_list2[i]])\n",
    "            df[column_list2[i]]=MinMaxScaler().fit_transform(df[column_list2[i]].values.reshape(-1,1)).reshape(1,-1)[0]\n",
    "        else:\n",
    "            # OneHot\n",
    "            df=pd.get_dummies(df,columns=[column_list2[i]])\n",
    "            \n",
    "            \n",
    "    if lower_d:\n",
    "        # PCA 降维\n",
    "        return PCA(n_components=ld_n).fit_transform(df.values).label    \n",
    "    return df,label\n",
    "\n",
    "def map_salary(s):\n",
    "    d=dict([(\"low\",0),(\"medium\",1),(\"high\",2)])\n",
    "    return d.get(s,0)\n",
    "\n",
    "def main():\n",
    "    features,label=hr_preprocessing(sl=True,le=True,dp=True,lower_d=False,ld_n=3)\n",
    "main()\n"
   ]
  },
  {
   "cell_type": "markdown",
   "metadata": {},
   "source": [
    "# 机器学习与数据建模"
   ]
  },
  {
   "cell_type": "markdown",
   "metadata": {},
   "source": [
    "## 基本概念"
   ]
  },
  {
   "cell_type": "markdown",
   "metadata": {},
   "source": [
    "- 学习：通过接受到的数据，归纳提取相同与不同  \n",
    "- 机器学习：让计算机以数据为基础，进行归纳与总结\n",
    "- 模型：数据解释现象的系统\n",
    "- 训练集： 用来训练与拟合模型\n",
    "- 测试集： 模型泛化能力评价            ----泛化：对未知数据的预测能力\n",
    "- 验证集： 当通过训练集训练出多个模型后，使用验证数据集纠偏或比较预测"
   ]
  },
  {
   "cell_type": "code",
   "execution_count": 24,
   "metadata": {},
   "outputs": [
    {
     "name": "stderr",
     "output_type": "stream",
     "text": [
      "D:\\anconda\\lib\\site-packages\\sklearn\\utils\\validation.py:475: DataConversionWarning: Data with input dtype int64 was converted to float64 by MinMaxScaler.\n",
      "  warnings.warn(msg, DataConversionWarning)\n"
     ]
    }
   ],
   "source": [
    "def hr_preprocessing(sl=False,le=False,npr=False,amh=False,tsc=False,wc=False,pl5=False,dp=True,sal=False,\n",
    "                    lower_d=False,ld_n=1):\n",
    "    \n",
    "    \n",
    "    # 0.数据读取\n",
    "    df=pd.read_csv(\"./HR.csv\")\n",
    "\n",
    "    # 1.清洗数据\n",
    "    df=df.dropna(subset=[\"satisfaction_level\",\"last_evaluation\"])\n",
    "    df=df[df[\"satisfaction_level\"]<=1][df[\"salary\"] != \"nme\"]\n",
    "    \n",
    "    # 2.以近期是否离职作为标签\n",
    "    \n",
    "    label=df[\"left\"]\n",
    "    df=df.drop(\"left\",axis=1)\n",
    "    \n",
    "    # 3.特征选择\n",
    "    \n",
    "    # 皮尔逊相关系数分析选择相关系数\n",
    "    \n",
    "    # 4.特征处理\n",
    "   \n",
    "    #4.1 满意度等数据的归一化或者标准化 \n",
    "    scaler_list=[sl,le,npr,amh,tsc,wc,pl5]\n",
    "    column_list1=[\"satisfaction_level\",\"last_evaluation\",\"number_project\",\\\n",
    "                 \"average_monthly_hours\",\"time_spend_company\",\"Work_accident\",\\\n",
    "                 \"promotion_last_5years\"]\n",
    "    for i in range(len(scaler_list)):\n",
    "        if not scaler_list[i]:\n",
    "            #数据归一化\n",
    "            df[column_list1[i]]=MinMaxScaler().fit_transform(df[column_list1[i]].values.reshape(-1,1)).reshape(1,-1)[0]\n",
    "        else:\n",
    "            #数据标准化\n",
    "            df[column_list1[i]]=StandardScaler().fit_transform(df[column_list1[i]].values.reshape(-1,1)).reshape(1,-1)[0]\n",
    "    \n",
    "    #4.2 部门、工资水平的离散化\n",
    "    encoder_list=[dp,sal]\n",
    "    column_list2=[\"department\",\"salary\"]\n",
    "    for i in range(len(encoder_list)):\n",
    "        if not encoder_list[i]:\n",
    "            # 标签\n",
    "            if column_list2[i]==\"salary\":\n",
    "                df[column_list2[i]]=[map_salary(s) for s in df[\"salary\"].values]\n",
    "            df[column_list2[i]]=LabelEncoder().fit_transform(df[column_list2[i]])\n",
    "            df[column_list2[i]]=MinMaxScaler().fit_transform(df[column_list2[i]].values.reshape(-1,1)).reshape(1,-1)[0]\n",
    "        else:\n",
    "            # OneHot\n",
    "            df=pd.get_dummies(df,columns=[column_list2[i]])\n",
    "            \n",
    "            \n",
    "    if lower_d:\n",
    "        # PCA 降维\n",
    "        return PCA(n_components=ld_n).fit_transform(df.values).label    \n",
    "    return df,label\n",
    "\n",
    "def map_salary(s):\n",
    "    d=dict([(\"low\",0),(\"medium\",1),(\"high\",2)])\n",
    "    return d.get(s,0)\n",
    "\n",
    "\n",
    "def hr_modeling(features,label):\n",
    "    f_v = features.values\n",
    "    l_v = label.values\n",
    "    X_tt,X_va,Y_tt,Y_va=train_test_split(f_v,l_v,test_size=0.2)\n",
    "    X_train,X_test,Y_train,Y_test = train_test_split()\n",
    "def main():\n",
    "    features,label=hr_preprocessing()\n",
    "    hr_modeling(features,label)\n",
    "main()\n"
   ]
  },
  {
   "cell_type": "code",
   "execution_count": null,
   "metadata": {},
   "outputs": [],
   "source": []
  }
 ],
 "metadata": {
  "kernelspec": {
   "display_name": "Python 3",
   "language": "python",
   "name": "python3"
  },
  "language_info": {
   "codemirror_mode": {
    "name": "ipython",
    "version": 3
   },
   "file_extension": ".py",
   "mimetype": "text/x-python",
   "name": "python",
   "nbconvert_exporter": "python",
   "pygments_lexer": "ipython3",
   "version": "3.6.5"
  },
  "toc": {
   "base_numbering": 1,
   "nav_menu": {},
   "number_sections": true,
   "sideBar": true,
   "skip_h1_title": false,
   "title_cell": "Table of Contents",
   "title_sidebar": "Contents",
   "toc_cell": false,
   "toc_position": {
    "height": "calc(100% - 180px)",
    "left": "10px",
    "top": "150px",
    "width": "252px"
   },
   "toc_section_display": true,
   "toc_window_display": true
  }
 },
 "nbformat": 4,
 "nbformat_minor": 2
}
